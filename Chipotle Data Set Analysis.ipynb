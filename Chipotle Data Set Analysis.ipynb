{
 "cells": [
  {
   "cell_type": "markdown",
   "id": "9a3d9aa0",
   "metadata": {},
   "source": [
    "## Nutrition Analysis and Total Calorie Prediction"
   ]
  },
  {
   "cell_type": "markdown",
   "id": "58168725",
   "metadata": {},
   "source": [
    "#### Sharven Rane 2001 1112"
   ]
  },
  {
   "cell_type": "markdown",
   "id": "e548690d",
   "metadata": {},
   "source": [
    " ### Abstract \n",
    " #### In this project, based on numerous variables, we hope to create a machine learning model that can predict total calories in a menu listed item. With the expanding trend of fitness app development and the growing number of people adopting solo workout routines, there is a greater demand for good eating plans and conscious eating to preserve overall well-being. We will be working with a popular company’s nutrition data set to Explore, Analyse and find Meaningful insights.\n",
    "\n"
   ]
  },
  {
   "cell_type": "markdown",
   "id": "2d26b15d",
   "metadata": {},
   "source": [
    "### Introduction\n",
    "#### Based on numerous variables, we hope to create a machine learning model that can predict total calories in a menu listed item. With the expanding trend of fitness app development and the growing number of people adopting solo workout routines, there is a greater demand for good eating plans and conscious eating to preserve overall well-being. \n",
    "#### To find the total calories we are consuming, we used the Chipotle Nutrition dataset, which includes information like Menu Type, Menu Category, Sodium, Cholesterol, Trans Fat, Carbohydrates, Protein and Fats consumed. To examine the dataset, we use parametric tests. ANOVA analysis is used to determine whether the means are the same across numerous samples, and ad hoc analysis is used to determine which subset groups have different means. In addition, the Chi-square test was used to determine the relationship between categorical features. \n",
    "#### Regressions are used to predict the total calories of the food items to have an estimate of our energy intake in the form of calories.\n"
   ]
  },
  {
   "cell_type": "markdown",
   "id": "18b7ac19",
   "metadata": {},
   "source": [
    "### Dataset\n",
    "#### Chipotle Mexican Grill, Inc., also known simply as Chipotle, is an American fast casual restaurant company with locations in the United States, United Kingdom, Canada, Germany, and France that specializes on bowls, tacos, and Mission burritos created to order in front of the customer. \n",
    "#### Despite the vast number of choices offered at fast food restaurants, some of which are healthier than others, the calories, portion sizes and sodium content overall have worsened (increased) over time and remain high. \n",
    "#### This creates a need to know our calorie consumption when eating outside to maintain wellness and consume food to maintain a healthy body fat level and BMI. \n",
    "#### We will be working with Chipotle Nutrition Data Set to Explore, Analyse and find Meaningful insights. \n",
    "\n"
   ]
  },
  {
   "cell_type": "markdown",
   "id": "92cfa6e3",
   "metadata": {},
   "source": [
    "### Methodology\n",
    "#### Since rows are more than 30 in this dataset and the mean of the columns are normally distributed according to Central Limit Theorem.\n",
    "\n",
    "\n",
    "#### Test Involved:\n",
    "\n",
    "#### 1.\tZ Test (Comparing Two Samples)\n",
    "#### The z-test is a statistical hypothesis test used to determine whether two population means are different when the variances are known and the sample size is large (typically, n ≥ 30).\n",
    "#### 2.\tF Test (Comparing Two or more Samples)\n",
    "#### The F-test is typically used in analysis of variance (ANOVA) to determine whether the means of two or more populations are equal.\n",
    "\n",
    "#### 3.\tTukey Test (Post Hoc Test)\n",
    "#### The Tukey test allows us to identify which groups have significantly different means, while controlling for the familywise error rate (the probability of making at least one false positive error when conducting multiple tests).\n",
    "\n",
    "#### 4.\tChi Square Test (Categorical Variables comparison)\n",
    "#### The chi-square test of independence is a statistical test used to determine whether there is a significant association between two categorical variables.\n",
    "\n",
    "#### 5.\tLinear Regression\n",
    "#### #### Linear regression is a statistical method used to analyze the relationship between a dependent variable and one or more independent variables. It involves fitting a linear equation to a set of data points and using this equation to make predictions about the values of the dependent variable based on the values of the independent variables.\n",
    "\n",
    "#### 6.\tFeature Selection\n",
    "#### •\tForward Selection\n",
    "#### The forward selection algorithm starts with an empty model and sequentially adds predictor variables that improve the model fit the most, until no more statistically significant predictors are available to be added to the model.\n",
    "\n",
    "#### •\tBackward Selection\n",
    "#### The backward selection algorithm starts with a model that includes all predictor variables and sequentially removes the variable that contributes the least to the model fit, until no more statistically insignificant variables are available to be removed from the model.\n",
    "#### 7.\tRegularization\n",
    "#### •\tRidge Regression\n",
    "#### Ridge regression is a linear regression technique that adds a penalty term to the ordinary least squares equation to handle multicollinearity in a dataset. The penalty term shrinks the coefficients of highly correlated predictors towards zero. The degree of shrinkage is controlled by a tuning parameter, lambda. Ridge regression can improve model accuracy by reducing the variance of estimates.\n",
    "#### •\tLasso Regression\n",
    "#### Lasso regression is a linear regression technique that adds a penalty term to the ordinary least squares equation to perform variable selection and handle multicollinearity. The penalty term encourages sparse solutions by shrinking some coefficients to exactly zero. The degree of sparsity is controlled by a tuning parameter, alpha. Lasso regression can effectively select important predictors and improve model interpretability.\n",
    "\n",
    "#### 8.\tPrinciple Component Analysis\n",
    "#### PCA works by identifying the linear combinations of the original variables that explain the most variance in the data. The first principal component captures the largest amount of variance, and each subsequent principal component captures the remaining variance in decreasing order.\n",
    "#### 9.\tPolynomial Regression\n",
    "#### Polynomial regression is a type of linear regression that models the relationship between a dependent variable and one or more independent variables as an nth degree polynomial function. In polynomial regression, the relationship between the variables is not linear but can be approximated by a polynomial curve.\n",
    "#### 10.\tResampling Methods\n",
    "#### •\tCross Validation\n",
    "#### In cross-validation, the original dataset is divided into two or more subsets. One subset is used to train the model, while the other subset(s) are used to test the model. The process is repeated multiple times, with different subsets used for training and testing, to obtain a more reliable estimate of the model's performance.\n",
    "#### •\tBootstrapping\n",
    "#### In bootstrapping, many resamples are drawn from the original dataset, each of the same size as the original dataset. The statistic of interest, such as the mean or standard deviation, is then computed for each resample.\n"
   ]
  },
  {
   "cell_type": "code",
   "execution_count": 1,
   "id": "2c23836c",
   "metadata": {},
   "outputs": [],
   "source": [
    "import numpy as np"
   ]
  },
  {
   "cell_type": "code",
   "execution_count": 2,
   "id": "c97cddca",
   "metadata": {},
   "outputs": [],
   "source": [
    "import scipy as sc"
   ]
  },
  {
   "cell_type": "code",
   "execution_count": 3,
   "id": "849eee13",
   "metadata": {},
   "outputs": [],
   "source": [
    "from scipy import stats"
   ]
  },
  {
   "cell_type": "code",
   "execution_count": 4,
   "id": "bb35fd30",
   "metadata": {},
   "outputs": [],
   "source": [
    "import pandas as pd"
   ]
  },
  {
   "cell_type": "code",
   "execution_count": 5,
   "id": "2d829a71",
   "metadata": {},
   "outputs": [],
   "source": [
    "import seaborn as sns"
   ]
  },
  {
   "cell_type": "code",
   "execution_count": 6,
   "id": "4959977a",
   "metadata": {},
   "outputs": [],
   "source": [
    "from fitter import Fitter, get_common_distributions, get_distributions"
   ]
  },
  {
   "cell_type": "code",
   "execution_count": 7,
   "id": "83c93a37",
   "metadata": {},
   "outputs": [],
   "source": [
    "import matplotlib.pyplot as plt"
   ]
  },
  {
   "cell_type": "code",
   "execution_count": 8,
   "id": "7c960b5d",
   "metadata": {},
   "outputs": [],
   "source": [
    "data=pd.read_csv(r'C:\\Users\\sharv\\Desktop\\chipotle_usa_nutritions.csv')"
   ]
  },
  {
   "cell_type": "code",
   "execution_count": 9,
   "id": "3071aa37",
   "metadata": {},
   "outputs": [],
   "source": [
    "df=pd.read_csv(r'C:\\Users\\sharv\\Desktop\\chipotle_usa_nutritions.csv')"
   ]
  },
  {
   "cell_type": "code",
   "execution_count": 10,
   "id": "afa5f5c6",
   "metadata": {
    "scrolled": true
   },
   "outputs": [
    {
     "data": {
      "text/html": [
       "<div>\n",
       "<style scoped>\n",
       "    .dataframe tbody tr th:only-of-type {\n",
       "        vertical-align: middle;\n",
       "    }\n",
       "\n",
       "    .dataframe tbody tr th {\n",
       "        vertical-align: top;\n",
       "    }\n",
       "\n",
       "    .dataframe thead th {\n",
       "        text-align: right;\n",
       "    }\n",
       "</style>\n",
       "<table border=\"1\" class=\"dataframe\">\n",
       "  <thead>\n",
       "    <tr style=\"text-align: right;\">\n",
       "      <th></th>\n",
       "      <th>Menu Type</th>\n",
       "      <th>Menu Category</th>\n",
       "      <th>Menu Item</th>\n",
       "      <th>Size Type</th>\n",
       "      <th>Per Serving Size</th>\n",
       "      <th>Total Calories (cal)</th>\n",
       "      <th>Total Fat Calories (cal)</th>\n",
       "      <th>Total Fats (g)</th>\n",
       "      <th>Saturated Fats (g)</th>\n",
       "      <th>Non-Saturated Fats (g)</th>\n",
       "      <th>Trans Fats (g)</th>\n",
       "      <th>Cholesterol (mg)</th>\n",
       "      <th>Sodium (g)</th>\n",
       "      <th>Carbohydrates (g)</th>\n",
       "      <th>Dietary Fiber (g)</th>\n",
       "      <th>Sugar (g)</th>\n",
       "      <th>Protein (g)</th>\n",
       "    </tr>\n",
       "  </thead>\n",
       "  <tbody>\n",
       "    <tr>\n",
       "      <th>0</th>\n",
       "      <td>Adult</td>\n",
       "      <td>Burrito</td>\n",
       "      <td>Tortilla</td>\n",
       "      <td>Regular</td>\n",
       "      <td>1 ea</td>\n",
       "      <td>320</td>\n",
       "      <td>80</td>\n",
       "      <td>9.0</td>\n",
       "      <td>0.5</td>\n",
       "      <td>8.5</td>\n",
       "      <td>0.0</td>\n",
       "      <td>0</td>\n",
       "      <td>600</td>\n",
       "      <td>0</td>\n",
       "      <td>3</td>\n",
       "      <td>0</td>\n",
       "      <td>8</td>\n",
       "    </tr>\n",
       "    <tr>\n",
       "      <th>1</th>\n",
       "      <td>Adult</td>\n",
       "      <td>Taco</td>\n",
       "      <td>Tortilla</td>\n",
       "      <td>Regular</td>\n",
       "      <td>1 ea</td>\n",
       "      <td>80</td>\n",
       "      <td>25</td>\n",
       "      <td>2.5</td>\n",
       "      <td>0.0</td>\n",
       "      <td>2.5</td>\n",
       "      <td>0.0</td>\n",
       "      <td>0</td>\n",
       "      <td>160</td>\n",
       "      <td>0</td>\n",
       "      <td>1</td>\n",
       "      <td>0</td>\n",
       "      <td>2</td>\n",
       "    </tr>\n",
       "    <tr>\n",
       "      <th>2</th>\n",
       "      <td>Adult</td>\n",
       "      <td>Toppings</td>\n",
       "      <td>Crispy Corn Tortilla</td>\n",
       "      <td>Regular</td>\n",
       "      <td>1 ea</td>\n",
       "      <td>70</td>\n",
       "      <td>25</td>\n",
       "      <td>3.0</td>\n",
       "      <td>0.5</td>\n",
       "      <td>2.5</td>\n",
       "      <td>0.0</td>\n",
       "      <td>0</td>\n",
       "      <td>0</td>\n",
       "      <td>0</td>\n",
       "      <td>1</td>\n",
       "      <td>0</td>\n",
       "      <td>1</td>\n",
       "    </tr>\n",
       "    <tr>\n",
       "      <th>3</th>\n",
       "      <td>Adult</td>\n",
       "      <td>Rice</td>\n",
       "      <td>Cilantro-Lime Brown Rice</td>\n",
       "      <td>Regular</td>\n",
       "      <td>4 oz</td>\n",
       "      <td>210</td>\n",
       "      <td>50</td>\n",
       "      <td>6.0</td>\n",
       "      <td>1.0</td>\n",
       "      <td>5.0</td>\n",
       "      <td>0.0</td>\n",
       "      <td>0</td>\n",
       "      <td>190</td>\n",
       "      <td>0</td>\n",
       "      <td>2</td>\n",
       "      <td>0</td>\n",
       "      <td>4</td>\n",
       "    </tr>\n",
       "    <tr>\n",
       "      <th>4</th>\n",
       "      <td>Adult</td>\n",
       "      <td>Rice</td>\n",
       "      <td>Cilantro-Lime White Rice</td>\n",
       "      <td>Regular</td>\n",
       "      <td>4 oz</td>\n",
       "      <td>210</td>\n",
       "      <td>35</td>\n",
       "      <td>4.0</td>\n",
       "      <td>0.5</td>\n",
       "      <td>3.5</td>\n",
       "      <td>0.0</td>\n",
       "      <td>0</td>\n",
       "      <td>350</td>\n",
       "      <td>0</td>\n",
       "      <td>1</td>\n",
       "      <td>0</td>\n",
       "      <td>4</td>\n",
       "    </tr>\n",
       "  </tbody>\n",
       "</table>\n",
       "</div>"
      ],
      "text/plain": [
       "  Menu Type Menu Category                 Menu Item Size Type  \\\n",
       "0     Adult       Burrito                  Tortilla   Regular   \n",
       "1     Adult          Taco                  Tortilla   Regular   \n",
       "2     Adult      Toppings      Crispy Corn Tortilla   Regular   \n",
       "3     Adult          Rice  Cilantro-Lime Brown Rice   Regular   \n",
       "4     Adult          Rice  Cilantro-Lime White Rice   Regular   \n",
       "\n",
       "  Per Serving Size  Total Calories (cal)  Total Fat Calories (cal)  \\\n",
       "0             1 ea                   320                        80   \n",
       "1             1 ea                    80                        25   \n",
       "2             1 ea                    70                        25   \n",
       "3             4 oz                   210                        50   \n",
       "4             4 oz                   210                        35   \n",
       "\n",
       "   Total Fats (g)  Saturated Fats (g)  Non-Saturated Fats (g)  Trans Fats (g)  \\\n",
       "0             9.0                 0.5                     8.5             0.0   \n",
       "1             2.5                 0.0                     2.5             0.0   \n",
       "2             3.0                 0.5                     2.5             0.0   \n",
       "3             6.0                 1.0                     5.0             0.0   \n",
       "4             4.0                 0.5                     3.5             0.0   \n",
       "\n",
       "   Cholesterol (mg)  Sodium (g)  Carbohydrates (g)  Dietary Fiber (g)  \\\n",
       "0                 0         600                  0                  3   \n",
       "1                 0         160                  0                  1   \n",
       "2                 0           0                  0                  1   \n",
       "3                 0         190                  0                  2   \n",
       "4                 0         350                  0                  1   \n",
       "\n",
       "   Sugar (g)  Protein (g)  \n",
       "0          0            8  \n",
       "1          0            2  \n",
       "2          0            1  \n",
       "3          0            4  \n",
       "4          0            4  "
      ]
     },
     "execution_count": 10,
     "metadata": {},
     "output_type": "execute_result"
    }
   ],
   "source": [
    "data.head()"
   ]
  },
  {
   "cell_type": "code",
   "execution_count": 11,
   "id": "257503a3",
   "metadata": {},
   "outputs": [
    {
     "data": {
      "text/plain": [
       "array(['Burrito', 'Taco', 'Toppings', 'Rice', 'Beans', 'Veggies',\n",
       "       'Protein', 'Taco, Side', 'Side', 'Beverage', 'Quesidilla',\n",
       "       'Side, Protein', 'Main, Protein', \"Kid's Meal\"], dtype=object)"
      ]
     },
     "execution_count": 11,
     "metadata": {},
     "output_type": "execute_result"
    }
   ],
   "source": [
    "data['Menu Category'].unique()"
   ]
  },
  {
   "cell_type": "code",
   "execution_count": 12,
   "id": "c838d871",
   "metadata": {},
   "outputs": [],
   "source": [
    "from sklearn.preprocessing import LabelEncoder, StandardScaler"
   ]
  },
  {
   "cell_type": "code",
   "execution_count": 13,
   "id": "1136d932",
   "metadata": {},
   "outputs": [],
   "source": [
    "lb = LabelEncoder()"
   ]
  },
  {
   "cell_type": "code",
   "execution_count": 14,
   "id": "251fcda5",
   "metadata": {},
   "outputs": [],
   "source": [
    "data['Menu Item'] = lb.fit_transform(data['Menu Item'])"
   ]
  },
  {
   "cell_type": "code",
   "execution_count": 15,
   "id": "b80e86b4",
   "metadata": {},
   "outputs": [],
   "source": [
    "data['Per Serving Size'] = lb.fit_transform(data['Per Serving Size'])"
   ]
  },
  {
   "cell_type": "code",
   "execution_count": 16,
   "id": "befc8454",
   "metadata": {},
   "outputs": [],
   "source": [
    "data['Menu Type'] = lb.fit_transform(data['Menu Type'])"
   ]
  },
  {
   "cell_type": "code",
   "execution_count": 17,
   "id": "8be71d25",
   "metadata": {},
   "outputs": [],
   "source": [
    "data['Menu Category'] = lb.fit_transform(data['Menu Category'])"
   ]
  },
  {
   "cell_type": "code",
   "execution_count": 18,
   "id": "ee198334",
   "metadata": {},
   "outputs": [],
   "source": [
    "data['Size Type'] = lb.fit_transform(data['Size Type'])"
   ]
  },
  {
   "cell_type": "code",
   "execution_count": 19,
   "id": "4535fd16",
   "metadata": {},
   "outputs": [],
   "source": [
    "data_scaled = StandardScaler().fit_transform(data)\n",
    "data_scaled = pd.DataFrame(data_scaled, columns=data.columns)"
   ]
  },
  {
   "cell_type": "code",
   "execution_count": 20,
   "id": "b60e9e70",
   "metadata": {},
   "outputs": [
    {
     "data": {
      "text/html": [
       "<div>\n",
       "<style scoped>\n",
       "    .dataframe tbody tr th:only-of-type {\n",
       "        vertical-align: middle;\n",
       "    }\n",
       "\n",
       "    .dataframe tbody tr th {\n",
       "        vertical-align: top;\n",
       "    }\n",
       "\n",
       "    .dataframe thead th {\n",
       "        text-align: right;\n",
       "    }\n",
       "</style>\n",
       "<table border=\"1\" class=\"dataframe\">\n",
       "  <thead>\n",
       "    <tr style=\"text-align: right;\">\n",
       "      <th></th>\n",
       "      <th>Menu Type</th>\n",
       "      <th>Menu Category</th>\n",
       "      <th>Menu Item</th>\n",
       "      <th>Size Type</th>\n",
       "      <th>Per Serving Size</th>\n",
       "      <th>Total Calories (cal)</th>\n",
       "      <th>Total Fat Calories (cal)</th>\n",
       "      <th>Total Fats (g)</th>\n",
       "      <th>Saturated Fats (g)</th>\n",
       "      <th>Non-Saturated Fats (g)</th>\n",
       "      <th>Trans Fats (g)</th>\n",
       "      <th>Cholesterol (mg)</th>\n",
       "      <th>Sodium (g)</th>\n",
       "      <th>Carbohydrates (g)</th>\n",
       "      <th>Dietary Fiber (g)</th>\n",
       "      <th>Sugar (g)</th>\n",
       "      <th>Protein (g)</th>\n",
       "    </tr>\n",
       "  </thead>\n",
       "  <tbody>\n",
       "    <tr>\n",
       "      <th>0</th>\n",
       "      <td>-0.660772</td>\n",
       "      <td>-0.679845</td>\n",
       "      <td>1.365973</td>\n",
       "      <td>-0.079640</td>\n",
       "      <td>-1.536771</td>\n",
       "      <td>0.989450</td>\n",
       "      <td>0.663780</td>\n",
       "      <td>0.668826</td>\n",
       "      <td>-0.226377</td>\n",
       "      <td>0.854170</td>\n",
       "      <td>-0.138622</td>\n",
       "      <td>-0.384917</td>\n",
       "      <td>2.190763</td>\n",
       "      <td>-0.738763</td>\n",
       "      <td>0.865106</td>\n",
       "      <td>-0.679054</td>\n",
       "      <td>0.825683</td>\n",
       "    </tr>\n",
       "    <tr>\n",
       "      <th>1</th>\n",
       "      <td>-0.660772</td>\n",
       "      <td>0.981094</td>\n",
       "      <td>1.365973</td>\n",
       "      <td>-0.079640</td>\n",
       "      <td>-1.536771</td>\n",
       "      <td>-0.605659</td>\n",
       "      <td>-0.121833</td>\n",
       "      <td>-0.160794</td>\n",
       "      <td>-0.393699</td>\n",
       "      <td>-0.008457</td>\n",
       "      <td>-0.138622</td>\n",
       "      <td>-0.384917</td>\n",
       "      <td>-0.102449</td>\n",
       "      <td>-0.738763</td>\n",
       "      <td>-0.044593</td>\n",
       "      <td>-0.679054</td>\n",
       "      <td>-0.207687</td>\n",
       "    </tr>\n",
       "    <tr>\n",
       "      <th>2</th>\n",
       "      <td>-0.660772</td>\n",
       "      <td>1.396329</td>\n",
       "      <td>-0.620661</td>\n",
       "      <td>-0.079640</td>\n",
       "      <td>-1.536771</td>\n",
       "      <td>-0.672122</td>\n",
       "      <td>-0.121833</td>\n",
       "      <td>-0.096977</td>\n",
       "      <td>-0.226377</td>\n",
       "      <td>-0.008457</td>\n",
       "      <td>-0.138622</td>\n",
       "      <td>-0.384917</td>\n",
       "      <td>-0.936344</td>\n",
       "      <td>-0.738763</td>\n",
       "      <td>-0.044593</td>\n",
       "      <td>-0.679054</td>\n",
       "      <td>-0.379915</td>\n",
       "    </tr>\n",
       "    <tr>\n",
       "      <th>3</th>\n",
       "      <td>-0.660772</td>\n",
       "      <td>0.358242</td>\n",
       "      <td>-0.951767</td>\n",
       "      <td>-0.079640</td>\n",
       "      <td>1.184594</td>\n",
       "      <td>0.258358</td>\n",
       "      <td>0.235264</td>\n",
       "      <td>0.285925</td>\n",
       "      <td>-0.059055</td>\n",
       "      <td>0.350971</td>\n",
       "      <td>-0.138622</td>\n",
       "      <td>-0.384917</td>\n",
       "      <td>0.053907</td>\n",
       "      <td>-0.738763</td>\n",
       "      <td>0.410257</td>\n",
       "      <td>-0.679054</td>\n",
       "      <td>0.136770</td>\n",
       "    </tr>\n",
       "    <tr>\n",
       "      <th>4</th>\n",
       "      <td>-0.660772</td>\n",
       "      <td>0.358242</td>\n",
       "      <td>-0.885546</td>\n",
       "      <td>-0.079640</td>\n",
       "      <td>1.184594</td>\n",
       "      <td>0.258358</td>\n",
       "      <td>0.021006</td>\n",
       "      <td>0.030657</td>\n",
       "      <td>-0.226377</td>\n",
       "      <td>0.135314</td>\n",
       "      <td>-0.138622</td>\n",
       "      <td>-0.384917</td>\n",
       "      <td>0.887802</td>\n",
       "      <td>-0.738763</td>\n",
       "      <td>-0.044593</td>\n",
       "      <td>-0.679054</td>\n",
       "      <td>0.136770</td>\n",
       "    </tr>\n",
       "    <tr>\n",
       "      <th>...</th>\n",
       "      <td>...</td>\n",
       "      <td>...</td>\n",
       "      <td>...</td>\n",
       "      <td>...</td>\n",
       "      <td>...</td>\n",
       "      <td>...</td>\n",
       "      <td>...</td>\n",
       "      <td>...</td>\n",
       "      <td>...</td>\n",
       "      <td>...</td>\n",
       "      <td>...</td>\n",
       "      <td>...</td>\n",
       "      <td>...</td>\n",
       "      <td>...</td>\n",
       "      <td>...</td>\n",
       "      <td>...</td>\n",
       "      <td>...</td>\n",
       "    </tr>\n",
       "    <tr>\n",
       "      <th>97</th>\n",
       "      <td>1.513381</td>\n",
       "      <td>1.603947</td>\n",
       "      <td>0.836204</td>\n",
       "      <td>1.274236</td>\n",
       "      <td>-1.264634</td>\n",
       "      <td>-1.104131</td>\n",
       "      <td>-0.478930</td>\n",
       "      <td>-0.479878</td>\n",
       "      <td>-0.393699</td>\n",
       "      <td>-0.367885</td>\n",
       "      <td>-0.138622</td>\n",
       "      <td>-0.384917</td>\n",
       "      <td>-0.936344</td>\n",
       "      <td>-0.713001</td>\n",
       "      <td>-0.044593</td>\n",
       "      <td>-0.679054</td>\n",
       "      <td>-0.552144</td>\n",
       "    </tr>\n",
       "    <tr>\n",
       "      <th>98</th>\n",
       "      <td>1.513381</td>\n",
       "      <td>-0.472228</td>\n",
       "      <td>0.107772</td>\n",
       "      <td>1.274236</td>\n",
       "      <td>-1.536771</td>\n",
       "      <td>-0.904742</td>\n",
       "      <td>-0.478930</td>\n",
       "      <td>-0.479878</td>\n",
       "      <td>-0.393699</td>\n",
       "      <td>-0.367885</td>\n",
       "      <td>-0.138622</td>\n",
       "      <td>-0.384917</td>\n",
       "      <td>-0.936344</td>\n",
       "      <td>-0.506905</td>\n",
       "      <td>-0.044593</td>\n",
       "      <td>-0.502554</td>\n",
       "      <td>-0.379915</td>\n",
       "    </tr>\n",
       "    <tr>\n",
       "      <th>99</th>\n",
       "      <td>1.513381</td>\n",
       "      <td>-0.472228</td>\n",
       "      <td>-1.415315</td>\n",
       "      <td>1.274236</td>\n",
       "      <td>-1.536771</td>\n",
       "      <td>-1.004437</td>\n",
       "      <td>-0.478930</td>\n",
       "      <td>-0.479878</td>\n",
       "      <td>-0.393699</td>\n",
       "      <td>-0.367885</td>\n",
       "      <td>-0.138622</td>\n",
       "      <td>-0.384917</td>\n",
       "      <td>-0.936344</td>\n",
       "      <td>-0.609953</td>\n",
       "      <td>-0.044593</td>\n",
       "      <td>-0.603411</td>\n",
       "      <td>-0.379915</td>\n",
       "    </tr>\n",
       "    <tr>\n",
       "      <th>100</th>\n",
       "      <td>1.513381</td>\n",
       "      <td>-0.472228</td>\n",
       "      <td>1.697079</td>\n",
       "      <td>1.274236</td>\n",
       "      <td>-1.536771</td>\n",
       "      <td>-0.605659</td>\n",
       "      <td>-0.478930</td>\n",
       "      <td>-0.479878</td>\n",
       "      <td>-0.393699</td>\n",
       "      <td>-0.367885</td>\n",
       "      <td>-0.138622</td>\n",
       "      <td>-0.384917</td>\n",
       "      <td>-0.936344</td>\n",
       "      <td>-0.249285</td>\n",
       "      <td>0.865106</td>\n",
       "      <td>-0.326055</td>\n",
       "      <td>-0.379915</td>\n",
       "    </tr>\n",
       "    <tr>\n",
       "      <th>101</th>\n",
       "      <td>1.513381</td>\n",
       "      <td>-0.472228</td>\n",
       "      <td>-1.017988</td>\n",
       "      <td>1.274236</td>\n",
       "      <td>-1.264634</td>\n",
       "      <td>-0.206882</td>\n",
       "      <td>0.378102</td>\n",
       "      <td>0.285925</td>\n",
       "      <td>-0.059055</td>\n",
       "      <td>0.350971</td>\n",
       "      <td>-0.138622</td>\n",
       "      <td>-0.384917</td>\n",
       "      <td>-0.441218</td>\n",
       "      <td>-0.275047</td>\n",
       "      <td>0.410257</td>\n",
       "      <td>-0.679054</td>\n",
       "      <td>-0.207687</td>\n",
       "    </tr>\n",
       "  </tbody>\n",
       "</table>\n",
       "<p>102 rows × 17 columns</p>\n",
       "</div>"
      ],
      "text/plain": [
       "     Menu Type  Menu Category  Menu Item  Size Type  Per Serving Size  \\\n",
       "0    -0.660772      -0.679845   1.365973  -0.079640         -1.536771   \n",
       "1    -0.660772       0.981094   1.365973  -0.079640         -1.536771   \n",
       "2    -0.660772       1.396329  -0.620661  -0.079640         -1.536771   \n",
       "3    -0.660772       0.358242  -0.951767  -0.079640          1.184594   \n",
       "4    -0.660772       0.358242  -0.885546  -0.079640          1.184594   \n",
       "..         ...            ...        ...        ...               ...   \n",
       "97    1.513381       1.603947   0.836204   1.274236         -1.264634   \n",
       "98    1.513381      -0.472228   0.107772   1.274236         -1.536771   \n",
       "99    1.513381      -0.472228  -1.415315   1.274236         -1.536771   \n",
       "100   1.513381      -0.472228   1.697079   1.274236         -1.536771   \n",
       "101   1.513381      -0.472228  -1.017988   1.274236         -1.264634   \n",
       "\n",
       "     Total Calories (cal)  Total Fat Calories (cal)  Total Fats (g)  \\\n",
       "0                0.989450                  0.663780        0.668826   \n",
       "1               -0.605659                 -0.121833       -0.160794   \n",
       "2               -0.672122                 -0.121833       -0.096977   \n",
       "3                0.258358                  0.235264        0.285925   \n",
       "4                0.258358                  0.021006        0.030657   \n",
       "..                    ...                       ...             ...   \n",
       "97              -1.104131                 -0.478930       -0.479878   \n",
       "98              -0.904742                 -0.478930       -0.479878   \n",
       "99              -1.004437                 -0.478930       -0.479878   \n",
       "100             -0.605659                 -0.478930       -0.479878   \n",
       "101             -0.206882                  0.378102        0.285925   \n",
       "\n",
       "     Saturated Fats (g)  Non-Saturated Fats (g)  Trans Fats (g)  \\\n",
       "0             -0.226377                0.854170       -0.138622   \n",
       "1             -0.393699               -0.008457       -0.138622   \n",
       "2             -0.226377               -0.008457       -0.138622   \n",
       "3             -0.059055                0.350971       -0.138622   \n",
       "4             -0.226377                0.135314       -0.138622   \n",
       "..                  ...                     ...             ...   \n",
       "97            -0.393699               -0.367885       -0.138622   \n",
       "98            -0.393699               -0.367885       -0.138622   \n",
       "99            -0.393699               -0.367885       -0.138622   \n",
       "100           -0.393699               -0.367885       -0.138622   \n",
       "101           -0.059055                0.350971       -0.138622   \n",
       "\n",
       "     Cholesterol (mg)  Sodium (g)  Carbohydrates (g)  Dietary Fiber (g)  \\\n",
       "0           -0.384917    2.190763          -0.738763           0.865106   \n",
       "1           -0.384917   -0.102449          -0.738763          -0.044593   \n",
       "2           -0.384917   -0.936344          -0.738763          -0.044593   \n",
       "3           -0.384917    0.053907          -0.738763           0.410257   \n",
       "4           -0.384917    0.887802          -0.738763          -0.044593   \n",
       "..                ...         ...                ...                ...   \n",
       "97          -0.384917   -0.936344          -0.713001          -0.044593   \n",
       "98          -0.384917   -0.936344          -0.506905          -0.044593   \n",
       "99          -0.384917   -0.936344          -0.609953          -0.044593   \n",
       "100         -0.384917   -0.936344          -0.249285           0.865106   \n",
       "101         -0.384917   -0.441218          -0.275047           0.410257   \n",
       "\n",
       "     Sugar (g)  Protein (g)  \n",
       "0    -0.679054     0.825683  \n",
       "1    -0.679054    -0.207687  \n",
       "2    -0.679054    -0.379915  \n",
       "3    -0.679054     0.136770  \n",
       "4    -0.679054     0.136770  \n",
       "..         ...          ...  \n",
       "97   -0.679054    -0.552144  \n",
       "98   -0.502554    -0.379915  \n",
       "99   -0.603411    -0.379915  \n",
       "100  -0.326055    -0.379915  \n",
       "101  -0.679054    -0.207687  \n",
       "\n",
       "[102 rows x 17 columns]"
      ]
     },
     "execution_count": 20,
     "metadata": {},
     "output_type": "execute_result"
    }
   ],
   "source": [
    "data_scaled"
   ]
  },
  {
   "cell_type": "markdown",
   "id": "88ee2885",
   "metadata": {},
   "source": [
    "### Since rows are more than 30 in this dataset and the mean of the columns are normally distributed according to Central Limit Theorem.\n",
    "### We want to compare the mean of two columns we will go for Z -test."
   ]
  },
  {
   "cell_type": "markdown",
   "id": "2cbe5322",
   "metadata": {},
   "source": [
    "### Z-  Test\n",
    "#### H0: mean of the two samples is equal\n",
    "##### H1: mean of the two samples is not equal"
   ]
  },
  {
   "cell_type": "code",
   "execution_count": 21,
   "id": "db7821d8",
   "metadata": {},
   "outputs": [
    {
     "data": {
      "text/plain": [
       "(-1.8351432634811717, 0.06648446508444447)"
      ]
     },
     "execution_count": 21,
     "metadata": {},
     "output_type": "execute_result"
    }
   ],
   "source": [
    "from statsmodels.stats.weightstats import ztest as ztest\n",
    "ztest(data['Saturated Fats (g)'], data['Non-Saturated Fats (g)'], value=0) "
   ]
  },
  {
   "cell_type": "markdown",
   "id": "92d14d77",
   "metadata": {},
   "source": [
    "### Since p value > 0.05 we failed to reject H0 i.e The means are equal"
   ]
  },
  {
   "cell_type": "code",
   "execution_count": 22,
   "id": "2cf952a7",
   "metadata": {},
   "outputs": [
    {
     "data": {
      "text/plain": [
       "(11.428704798627443, 3.005583755712495e-30)"
      ]
     },
     "execution_count": 22,
     "metadata": {},
     "output_type": "execute_result"
    }
   ],
   "source": [
    "ztest(data['Total Calories (cal)'], data['Trans Fats (g)'], value=0) "
   ]
  },
  {
   "cell_type": "markdown",
   "id": "9846dde1",
   "metadata": {},
   "source": [
    "### Since p value < 0.05 we reject H0 i.e The means are not equal"
   ]
  },
  {
   "cell_type": "markdown",
   "id": "b0cf1295",
   "metadata": {},
   "source": [
    "## F-test"
   ]
  },
  {
   "cell_type": "markdown",
   "id": "4b67c7eb",
   "metadata": {},
   "source": [
    "#### H0: Mean of the samples are equal\n",
    "#### H1 Mean of the samples are not equal"
   ]
  },
  {
   "cell_type": "code",
   "execution_count": 23,
   "id": "2a717f4e",
   "metadata": {},
   "outputs": [
    {
     "name": "stdout",
     "output_type": "stream",
     "text": [
      "5.431933266878706e-129\n"
     ]
    }
   ],
   "source": [
    "f,p = sc.stats.f_oneway(data.iloc[:, 5],\n",
    "data.iloc[:, 6],\n",
    "data.iloc[:, 7],\n",
    "data.iloc[:, 8],\n",
    "data.iloc[:, 9],\n",
    "data.iloc[:, 10],\n",
    "data.iloc[:, 11],\n",
    "data.iloc[:, 12],\n",
    "data.iloc[:, 13],\n",
    "data.iloc[:, 14],\n",
    "data.iloc[:, 15],\n",
    "data.iloc[:, 16]\n",
    ")\n",
    "print(p)"
   ]
  },
  {
   "cell_type": "code",
   "execution_count": 24,
   "id": "e12ef013",
   "metadata": {},
   "outputs": [
    {
     "name": "stdout",
     "output_type": "stream",
     "text": [
      "Reject Null Hypothesis (Mean of the samples is different)\n"
     ]
    }
   ],
   "source": [
    "if p < 0.05:\n",
    "\tprint('Reject Null Hypothesis (Mean of the samples is different)')\n",
    "else:\n",
    "\tprint('Do not Reject Null Hypothesis (Mean of the samples is equal)')"
   ]
  },
  {
   "cell_type": "markdown",
   "id": "41d1cc21",
   "metadata": {},
   "source": [
    "#### Since we found out the means of the samples is different we go ahead and perform the Tukey test too identify which of the coloumns are actually not same.\n",
    "#### Reject false means the two coloumns are same"
   ]
  },
  {
   "cell_type": "markdown",
   "id": "121536c6",
   "metadata": {},
   "source": [
    "## Tukey test\n",
    "#### H0 : Difference of the mean of the two groups = 0\n",
    "#### H1: Difference of the mean of the two groups is != 0"
   ]
  },
  {
   "cell_type": "code",
   "execution_count": 25,
   "id": "6037f4fc",
   "metadata": {},
   "outputs": [
    {
     "name": "stdout",
     "output_type": "stream",
     "text": [
      " Multiple Comparison of Means - Tukey HSD, FWER=0.05 \n",
      "=====================================================\n",
      "group1 group2 meandiff p-adj   lower    upper  reject\n",
      "-----------------------------------------------------\n",
      "     0      1   5.6739    0.9 -36.1515 47.4994  False\n",
      "     0      2  -9.9677 0.8445 -55.2162 35.2807  False\n",
      "     1      2 -15.6417  0.601 -54.7569 23.4736  False\n",
      "-----------------------------------------------------\n"
     ]
    }
   ],
   "source": [
    "from statsmodels.stats.multicomp import pairwise_tukeyhsd\n",
    "tukey = pairwise_tukeyhsd(endog=data['Total Fat Calories (cal)'],\n",
    "                          groups=data['Size Type'],\n",
    "                          alpha=0.05)\n",
    "print(tukey)"
   ]
  },
  {
   "cell_type": "code",
   "execution_count": 26,
   "id": "1293e54e",
   "metadata": {},
   "outputs": [
    {
     "data": {
      "text/plain": [
       "<Axes: xlabel='Total Fat Calories (cal)', ylabel='Count'>"
      ]
     },
     "execution_count": 26,
     "metadata": {},
     "output_type": "execute_result"
    },
    {
     "data": {
      "image/png": "[encoded data removed]",
      "text/plain": [
       "<Figure size 432x288 with 1 Axes>"
      ]
     },
     "metadata": {
      "needs_background": "light"
     },
     "output_type": "display_data"
    }
   ],
   "source": [
    "sns.histplot(data[data['Size Type']==0]['Total Fat Calories (cal)'], kde=True)"
   ]
  },
  {
   "cell_type": "code",
   "execution_count": 27,
   "id": "b1e04dd0",
   "metadata": {},
   "outputs": [
    {
     "data": {
      "text/plain": [
       "<Axes: xlabel='Total Fat Calories (cal)', ylabel='Count'>"
      ]
     },
     "execution_count": 27,
     "metadata": {},
     "output_type": "execute_result"
    },
    {
     "data": {
      "image/png": "[encoded data removed]",
      "text/plain": [
       "<Figure size 432x288 with 1 Axes>"
      ]
     },
     "metadata": {
      "needs_background": "light"
     },
     "output_type": "display_data"
    }
   ],
   "source": [
    "sns.histplot(data[data['Size Type']==1]['Total Fat Calories (cal)'], kde=True)"
   ]
  },
  {
   "cell_type": "code",
   "execution_count": 28,
   "id": "68b2f201",
   "metadata": {},
   "outputs": [
    {
     "data": {
      "text/plain": [
       "<Axes: xlabel='Total Fat Calories (cal)', ylabel='Count'>"
      ]
     },
     "execution_count": 28,
     "metadata": {},
     "output_type": "execute_result"
    },
    {
     "data": {
      "image/png": "[encoded data removed]",
      "text/plain": [
       "<Figure size 432x288 with 1 Axes>"
      ]
     },
     "metadata": {
      "needs_background": "light"
     },
     "output_type": "display_data"
    }
   ],
   "source": [
    "sns.histplot(data[data['Size Type']==2]['Total Fat Calories (cal)'], kde=True)"
   ]
  },
  {
   "cell_type": "code",
   "execution_count": 29,
   "id": "f20744ad",
   "metadata": {},
   "outputs": [
    {
     "name": "stdout",
     "output_type": "stream",
     "text": [
      " Multiple Comparison of Means - Tukey HSD, FWER=0.05 \n",
      "=====================================================\n",
      "group1 group2 meandiff p-adj   lower    upper  reject\n",
      "-----------------------------------------------------\n",
      "     0      1 -13.6438 0.3703 -43.7203 16.4328  False\n",
      "-----------------------------------------------------\n"
     ]
    }
   ],
   "source": [
    "from statsmodels.stats.multicomp import pairwise_tukeyhsd\n",
    "tukey = pairwise_tukeyhsd(endog=data['Total Fat Calories (cal)'],\n",
    "                          groups=data['Menu Type'],\n",
    "                          alpha=0.05)\n",
    "print(tukey)"
   ]
  },
  {
   "cell_type": "code",
   "execution_count": 30,
   "id": "559c34d5",
   "metadata": {},
   "outputs": [
    {
     "data": {
      "text/plain": [
       "<Axes: xlabel='Total Fat Calories (cal)', ylabel='Count'>"
      ]
     },
     "execution_count": 30,
     "metadata": {},
     "output_type": "execute_result"
    },
    {
     "data": {
      "image/png": "[encoded data removed]",
      "text/plain": [
       "<Figure size 432x288 with 1 Axes>"
      ]
     },
     "metadata": {
      "needs_background": "light"
     },
     "output_type": "display_data"
    }
   ],
   "source": [
    "sns.histplot(data[data['Menu Type']==0]['Total Fat Calories (cal)'], kde=True)"
   ]
  },
  {
   "cell_type": "code",
   "execution_count": 31,
   "id": "d59f97d2",
   "metadata": {},
   "outputs": [
    {
     "data": {
      "text/plain": [
       "<Axes: xlabel='Total Fat Calories (cal)', ylabel='Count'>"
      ]
     },
     "execution_count": 31,
     "metadata": {},
     "output_type": "execute_result"
    },
    {
     "data": {
      "image/png": "[encoded data removed]",
      "text/plain": [
       "<Figure size 432x288 with 1 Axes>"
      ]
     },
     "metadata": {
      "needs_background": "light"
     },
     "output_type": "display_data"
    }
   ],
   "source": [
    "sns.histplot(data[data['Menu Type']==1]['Total Fat Calories (cal)'], kde=True)"
   ]
  },
  {
   "cell_type": "markdown",
   "id": "41219986",
   "metadata": {},
   "source": [
    "#### After applying tukey to few column pairs we found out which coloums have same mean and we plot the graph for the same."
   ]
  },
  {
   "cell_type": "markdown",
   "id": "01ffd91f",
   "metadata": {},
   "source": [
    "### Chi-square Test of independence\n",
    "\n",
    "#### H0: (null hypothesis) The two variables are independent.\n",
    "\n",
    "#### H1: (alternative hypothesis) The two variables are not independent"
   ]
  },
  {
   "cell_type": "markdown",
   "id": "2b4ad8cd",
   "metadata": {},
   "source": [
    "#### We use this on Categorical Coloumns only so we check between categorical variables only"
   ]
  },
  {
   "cell_type": "code",
   "execution_count": 32,
   "id": "01a96939",
   "metadata": {},
   "outputs": [
    {
     "data": {
      "text/html": [
       "<div>\n",
       "<style scoped>\n",
       "    .dataframe tbody tr th:only-of-type {\n",
       "        vertical-align: middle;\n",
       "    }\n",
       "\n",
       "    .dataframe tbody tr th {\n",
       "        vertical-align: top;\n",
       "    }\n",
       "\n",
       "    .dataframe thead th {\n",
       "        text-align: right;\n",
       "    }\n",
       "</style>\n",
       "<table border=\"1\" class=\"dataframe\">\n",
       "  <thead>\n",
       "    <tr style=\"text-align: right;\">\n",
       "      <th></th>\n",
       "      <th>Menu Type</th>\n",
       "      <th>Menu Category</th>\n",
       "      <th>Menu Item</th>\n",
       "      <th>Size Type</th>\n",
       "      <th>Per Serving Size</th>\n",
       "      <th>Total Calories (cal)</th>\n",
       "      <th>Total Fat Calories (cal)</th>\n",
       "      <th>Total Fats (g)</th>\n",
       "      <th>Saturated Fats (g)</th>\n",
       "      <th>Non-Saturated Fats (g)</th>\n",
       "      <th>Trans Fats (g)</th>\n",
       "      <th>Cholesterol (mg)</th>\n",
       "      <th>Sodium (g)</th>\n",
       "      <th>Carbohydrates (g)</th>\n",
       "      <th>Dietary Fiber (g)</th>\n",
       "      <th>Sugar (g)</th>\n",
       "      <th>Protein (g)</th>\n",
       "    </tr>\n",
       "  </thead>\n",
       "  <tbody>\n",
       "    <tr>\n",
       "      <th>0</th>\n",
       "      <td>Adult</td>\n",
       "      <td>Burrito</td>\n",
       "      <td>Tortilla</td>\n",
       "      <td>Regular</td>\n",
       "      <td>1 ea</td>\n",
       "      <td>320</td>\n",
       "      <td>80</td>\n",
       "      <td>9.0</td>\n",
       "      <td>0.5</td>\n",
       "      <td>8.5</td>\n",
       "      <td>0.0</td>\n",
       "      <td>0</td>\n",
       "      <td>600</td>\n",
       "      <td>0</td>\n",
       "      <td>3</td>\n",
       "      <td>0</td>\n",
       "      <td>8</td>\n",
       "    </tr>\n",
       "    <tr>\n",
       "      <th>1</th>\n",
       "      <td>Adult</td>\n",
       "      <td>Taco</td>\n",
       "      <td>Tortilla</td>\n",
       "      <td>Regular</td>\n",
       "      <td>1 ea</td>\n",
       "      <td>80</td>\n",
       "      <td>25</td>\n",
       "      <td>2.5</td>\n",
       "      <td>0.0</td>\n",
       "      <td>2.5</td>\n",
       "      <td>0.0</td>\n",
       "      <td>0</td>\n",
       "      <td>160</td>\n",
       "      <td>0</td>\n",
       "      <td>1</td>\n",
       "      <td>0</td>\n",
       "      <td>2</td>\n",
       "    </tr>\n",
       "    <tr>\n",
       "      <th>2</th>\n",
       "      <td>Adult</td>\n",
       "      <td>Toppings</td>\n",
       "      <td>Crispy Corn Tortilla</td>\n",
       "      <td>Regular</td>\n",
       "      <td>1 ea</td>\n",
       "      <td>70</td>\n",
       "      <td>25</td>\n",
       "      <td>3.0</td>\n",
       "      <td>0.5</td>\n",
       "      <td>2.5</td>\n",
       "      <td>0.0</td>\n",
       "      <td>0</td>\n",
       "      <td>0</td>\n",
       "      <td>0</td>\n",
       "      <td>1</td>\n",
       "      <td>0</td>\n",
       "      <td>1</td>\n",
       "    </tr>\n",
       "    <tr>\n",
       "      <th>3</th>\n",
       "      <td>Adult</td>\n",
       "      <td>Rice</td>\n",
       "      <td>Cilantro-Lime Brown Rice</td>\n",
       "      <td>Regular</td>\n",
       "      <td>4 oz</td>\n",
       "      <td>210</td>\n",
       "      <td>50</td>\n",
       "      <td>6.0</td>\n",
       "      <td>1.0</td>\n",
       "      <td>5.0</td>\n",
       "      <td>0.0</td>\n",
       "      <td>0</td>\n",
       "      <td>190</td>\n",
       "      <td>0</td>\n",
       "      <td>2</td>\n",
       "      <td>0</td>\n",
       "      <td>4</td>\n",
       "    </tr>\n",
       "    <tr>\n",
       "      <th>4</th>\n",
       "      <td>Adult</td>\n",
       "      <td>Rice</td>\n",
       "      <td>Cilantro-Lime White Rice</td>\n",
       "      <td>Regular</td>\n",
       "      <td>4 oz</td>\n",
       "      <td>210</td>\n",
       "      <td>35</td>\n",
       "      <td>4.0</td>\n",
       "      <td>0.5</td>\n",
       "      <td>3.5</td>\n",
       "      <td>0.0</td>\n",
       "      <td>0</td>\n",
       "      <td>350</td>\n",
       "      <td>0</td>\n",
       "      <td>1</td>\n",
       "      <td>0</td>\n",
       "      <td>4</td>\n",
       "    </tr>\n",
       "  </tbody>\n",
       "</table>\n",
       "</div>"
      ],
      "text/plain": [
       "  Menu Type Menu Category                 Menu Item Size Type  \\\n",
       "0     Adult       Burrito                  Tortilla   Regular   \n",
       "1     Adult          Taco                  Tortilla   Regular   \n",
       "2     Adult      Toppings      Crispy Corn Tortilla   Regular   \n",
       "3     Adult          Rice  Cilantro-Lime Brown Rice   Regular   \n",
       "4     Adult          Rice  Cilantro-Lime White Rice   Regular   \n",
       "\n",
       "  Per Serving Size  Total Calories (cal)  Total Fat Calories (cal)  \\\n",
       "0             1 ea                   320                        80   \n",
       "1             1 ea                    80                        25   \n",
       "2             1 ea                    70                        25   \n",
       "3             4 oz                   210                        50   \n",
       "4             4 oz                   210                        35   \n",
       "\n",
       "   Total Fats (g)  Saturated Fats (g)  Non-Saturated Fats (g)  Trans Fats (g)  \\\n",
       "0             9.0                 0.5                     8.5             0.0   \n",
       "1             2.5                 0.0                     2.5             0.0   \n",
       "2             3.0                 0.5                     2.5             0.0   \n",
       "3             6.0                 1.0                     5.0             0.0   \n",
       "4             4.0                 0.5                     3.5             0.0   \n",
       "\n",
       "   Cholesterol (mg)  Sodium (g)  Carbohydrates (g)  Dietary Fiber (g)  \\\n",
       "0                 0         600                  0                  3   \n",
       "1                 0         160                  0                  1   \n",
       "2                 0           0                  0                  1   \n",
       "3                 0         190                  0                  2   \n",
       "4                 0         350                  0                  1   \n",
       "\n",
       "   Sugar (g)  Protein (g)  \n",
       "0          0            8  \n",
       "1          0            2  \n",
       "2          0            1  \n",
       "3          0            4  \n",
       "4          0            4  "
      ]
     },
     "execution_count": 32,
     "metadata": {},
     "output_type": "execute_result"
    }
   ],
   "source": [
    "df.head()"
   ]
  },
  {
   "cell_type": "code",
   "execution_count": 33,
   "id": "5674be82",
   "metadata": {},
   "outputs": [
    {
     "data": {
      "text/html": [
       "<div>\n",
       "<style scoped>\n",
       "    .dataframe tbody tr th:only-of-type {\n",
       "        vertical-align: middle;\n",
       "    }\n",
       "\n",
       "    .dataframe tbody tr th {\n",
       "        vertical-align: top;\n",
       "    }\n",
       "\n",
       "    .dataframe thead th {\n",
       "        text-align: right;\n",
       "    }\n",
       "</style>\n",
       "<table border=\"1\" class=\"dataframe\">\n",
       "  <thead>\n",
       "    <tr style=\"text-align: right;\">\n",
       "      <th>Size Type</th>\n",
       "      <th>Large</th>\n",
       "      <th>Regular</th>\n",
       "      <th>Small</th>\n",
       "    </tr>\n",
       "    <tr>\n",
       "      <th>Menu Category</th>\n",
       "      <th></th>\n",
       "      <th></th>\n",
       "      <th></th>\n",
       "    </tr>\n",
       "  </thead>\n",
       "  <tbody>\n",
       "    <tr>\n",
       "      <th>Beans</th>\n",
       "      <td>0</td>\n",
       "      <td>2</td>\n",
       "      <td>2</td>\n",
       "    </tr>\n",
       "    <tr>\n",
       "      <th>Beverage</th>\n",
       "      <td>22</td>\n",
       "      <td>21</td>\n",
       "      <td>0</td>\n",
       "    </tr>\n",
       "    <tr>\n",
       "      <th>Burrito</th>\n",
       "      <td>0</td>\n",
       "      <td>1</td>\n",
       "      <td>0</td>\n",
       "    </tr>\n",
       "    <tr>\n",
       "      <th>Kid's Meal</th>\n",
       "      <td>0</td>\n",
       "      <td>0</td>\n",
       "      <td>4</td>\n",
       "    </tr>\n",
       "    <tr>\n",
       "      <th>Main, Protein</th>\n",
       "      <td>0</td>\n",
       "      <td>0</td>\n",
       "      <td>5</td>\n",
       "    </tr>\n",
       "    <tr>\n",
       "      <th>Protein</th>\n",
       "      <td>0</td>\n",
       "      <td>5</td>\n",
       "      <td>0</td>\n",
       "    </tr>\n",
       "    <tr>\n",
       "      <th>Quesidilla</th>\n",
       "      <td>0</td>\n",
       "      <td>0</td>\n",
       "      <td>1</td>\n",
       "    </tr>\n",
       "    <tr>\n",
       "      <th>Rice</th>\n",
       "      <td>0</td>\n",
       "      <td>2</td>\n",
       "      <td>2</td>\n",
       "    </tr>\n",
       "    <tr>\n",
       "      <th>Side</th>\n",
       "      <td>0</td>\n",
       "      <td>1</td>\n",
       "      <td>0</td>\n",
       "    </tr>\n",
       "    <tr>\n",
       "      <th>Side, Protein</th>\n",
       "      <td>0</td>\n",
       "      <td>0</td>\n",
       "      <td>5</td>\n",
       "    </tr>\n",
       "    <tr>\n",
       "      <th>Taco</th>\n",
       "      <td>0</td>\n",
       "      <td>1</td>\n",
       "      <td>1</td>\n",
       "    </tr>\n",
       "    <tr>\n",
       "      <th>Taco, Side</th>\n",
       "      <td>0</td>\n",
       "      <td>1</td>\n",
       "      <td>0</td>\n",
       "    </tr>\n",
       "    <tr>\n",
       "      <th>Toppings</th>\n",
       "      <td>2</td>\n",
       "      <td>10</td>\n",
       "      <td>8</td>\n",
       "    </tr>\n",
       "    <tr>\n",
       "      <th>Veggies</th>\n",
       "      <td>1</td>\n",
       "      <td>2</td>\n",
       "      <td>3</td>\n",
       "    </tr>\n",
       "  </tbody>\n",
       "</table>\n",
       "</div>"
      ],
      "text/plain": [
       "Size Type      Large  Regular  Small\n",
       "Menu Category                       \n",
       "Beans              0        2      2\n",
       "Beverage          22       21      0\n",
       "Burrito            0        1      0\n",
       "Kid's Meal         0        0      4\n",
       "Main, Protein      0        0      5\n",
       "Protein            0        5      0\n",
       "Quesidilla         0        0      1\n",
       "Rice               0        2      2\n",
       "Side               0        1      0\n",
       "Side, Protein      0        0      5\n",
       "Taco               0        1      1\n",
       "Taco, Side         0        1      0\n",
       "Toppings           2       10      8\n",
       "Veggies            1        2      3"
      ]
     },
     "execution_count": 33,
     "metadata": {},
     "output_type": "execute_result"
    }
   ],
   "source": [
    "crosstab = pd.crosstab(index=df['Menu Category'], columns=df['Size Type'])\n",
    "crosstab"
   ]
  },
  {
   "cell_type": "code",
   "execution_count": 34,
   "id": "a8235fed",
   "metadata": {},
   "outputs": [
    {
     "data": {
      "text/plain": [
       "(77.05386098698588,\n",
       " 5.918472251427619e-07,\n",
       " 26,\n",
       " array([[ 0.98039216,  1.80392157,  1.21568627],\n",
       "        [10.53921569, 19.39215686, 13.06862745],\n",
       "        [ 0.24509804,  0.45098039,  0.30392157],\n",
       "        [ 0.98039216,  1.80392157,  1.21568627],\n",
       "        [ 1.2254902 ,  2.25490196,  1.51960784],\n",
       "        [ 1.2254902 ,  2.25490196,  1.51960784],\n",
       "        [ 0.24509804,  0.45098039,  0.30392157],\n",
       "        [ 0.98039216,  1.80392157,  1.21568627],\n",
       "        [ 0.24509804,  0.45098039,  0.30392157],\n",
       "        [ 1.2254902 ,  2.25490196,  1.51960784],\n",
       "        [ 0.49019608,  0.90196078,  0.60784314],\n",
       "        [ 0.24509804,  0.45098039,  0.30392157],\n",
       "        [ 4.90196078,  9.01960784,  6.07843137],\n",
       "        [ 1.47058824,  2.70588235,  1.82352941]]))"
      ]
     },
     "execution_count": 34,
     "metadata": {},
     "output_type": "execute_result"
    }
   ],
   "source": [
    "stats.chi2_contingency(crosstab)"
   ]
  },
  {
   "cell_type": "markdown",
   "id": "8a0a6dd5",
   "metadata": {},
   "source": [
    "#### The way to interpret the output is as follows:\n",
    "\n",
    "#### Chi-Square Test Statistic: 77.05 p-value:5.918e-07 Degrees of freedom: 26 Array: dispalyed above\n",
    "\n",
    "#### Since the p-value (5.918e-07) of the test is less than 0.05, we reject the null hypothesis.\n",
    "\n",
    "##### This means we do have sufficient evidence to say that there is an association between Menu Category and Size Type preference.\n"
   ]
  },
  {
   "cell_type": "markdown",
   "id": "1b3d3e94",
   "metadata": {},
   "source": [
    "### Linear Regression"
   ]
  },
  {
   "cell_type": "code",
   "execution_count": 35,
   "id": "034c843c",
   "metadata": {},
   "outputs": [],
   "source": [
    "X = data.drop('Total Calories (cal)', axis = 1)\n",
    "y = data[['Total Calories (cal)']] "
   ]
  },
  {
   "cell_type": "code",
   "execution_count": 36,
   "id": "47574cc5",
   "metadata": {},
   "outputs": [
    {
     "data": {
      "text/plain": [
       "(102, 16)"
      ]
     },
     "execution_count": 36,
     "metadata": {},
     "output_type": "execute_result"
    }
   ],
   "source": [
    "X.shape"
   ]
  },
  {
   "cell_type": "code",
   "execution_count": 37,
   "id": "e2c1e022",
   "metadata": {},
   "outputs": [
    {
     "data": {
      "text/html": [
       "<div>\n",
       "<style scoped>\n",
       "    .dataframe tbody tr th:only-of-type {\n",
       "        vertical-align: middle;\n",
       "    }\n",
       "\n",
       "    .dataframe tbody tr th {\n",
       "        vertical-align: top;\n",
       "    }\n",
       "\n",
       "    .dataframe thead th {\n",
       "        text-align: right;\n",
       "    }\n",
       "</style>\n",
       "<table border=\"1\" class=\"dataframe\">\n",
       "  <thead>\n",
       "    <tr style=\"text-align: right;\">\n",
       "      <th></th>\n",
       "      <th>Menu Type</th>\n",
       "      <th>Menu Category</th>\n",
       "      <th>Menu Item</th>\n",
       "      <th>Size Type</th>\n",
       "      <th>Per Serving Size</th>\n",
       "      <th>Total Fat Calories (cal)</th>\n",
       "      <th>Total Fats (g)</th>\n",
       "      <th>Saturated Fats (g)</th>\n",
       "      <th>Non-Saturated Fats (g)</th>\n",
       "      <th>Trans Fats (g)</th>\n",
       "      <th>Cholesterol (mg)</th>\n",
       "      <th>Sodium (g)</th>\n",
       "      <th>Carbohydrates (g)</th>\n",
       "      <th>Dietary Fiber (g)</th>\n",
       "      <th>Sugar (g)</th>\n",
       "      <th>Protein (g)</th>\n",
       "    </tr>\n",
       "  </thead>\n",
       "  <tbody>\n",
       "    <tr>\n",
       "      <th>0</th>\n",
       "      <td>0</td>\n",
       "      <td>2</td>\n",
       "      <td>45</td>\n",
       "      <td>1</td>\n",
       "      <td>2</td>\n",
       "      <td>80</td>\n",
       "      <td>9.0</td>\n",
       "      <td>0.5</td>\n",
       "      <td>8.5</td>\n",
       "      <td>0.0</td>\n",
       "      <td>0</td>\n",
       "      <td>600</td>\n",
       "      <td>0</td>\n",
       "      <td>3</td>\n",
       "      <td>0</td>\n",
       "      <td>8</td>\n",
       "    </tr>\n",
       "    <tr>\n",
       "      <th>1</th>\n",
       "      <td>0</td>\n",
       "      <td>10</td>\n",
       "      <td>45</td>\n",
       "      <td>1</td>\n",
       "      <td>2</td>\n",
       "      <td>25</td>\n",
       "      <td>2.5</td>\n",
       "      <td>0.0</td>\n",
       "      <td>2.5</td>\n",
       "      <td>0.0</td>\n",
       "      <td>0</td>\n",
       "      <td>160</td>\n",
       "      <td>0</td>\n",
       "      <td>1</td>\n",
       "      <td>0</td>\n",
       "      <td>2</td>\n",
       "    </tr>\n",
       "    <tr>\n",
       "      <th>2</th>\n",
       "      <td>0</td>\n",
       "      <td>12</td>\n",
       "      <td>15</td>\n",
       "      <td>1</td>\n",
       "      <td>2</td>\n",
       "      <td>25</td>\n",
       "      <td>3.0</td>\n",
       "      <td>0.5</td>\n",
       "      <td>2.5</td>\n",
       "      <td>0.0</td>\n",
       "      <td>0</td>\n",
       "      <td>0</td>\n",
       "      <td>0</td>\n",
       "      <td>1</td>\n",
       "      <td>0</td>\n",
       "      <td>1</td>\n",
       "    </tr>\n",
       "    <tr>\n",
       "      <th>3</th>\n",
       "      <td>0</td>\n",
       "      <td>7</td>\n",
       "      <td>10</td>\n",
       "      <td>1</td>\n",
       "      <td>12</td>\n",
       "      <td>50</td>\n",
       "      <td>6.0</td>\n",
       "      <td>1.0</td>\n",
       "      <td>5.0</td>\n",
       "      <td>0.0</td>\n",
       "      <td>0</td>\n",
       "      <td>190</td>\n",
       "      <td>0</td>\n",
       "      <td>2</td>\n",
       "      <td>0</td>\n",
       "      <td>4</td>\n",
       "    </tr>\n",
       "    <tr>\n",
       "      <th>4</th>\n",
       "      <td>0</td>\n",
       "      <td>7</td>\n",
       "      <td>11</td>\n",
       "      <td>1</td>\n",
       "      <td>12</td>\n",
       "      <td>35</td>\n",
       "      <td>4.0</td>\n",
       "      <td>0.5</td>\n",
       "      <td>3.5</td>\n",
       "      <td>0.0</td>\n",
       "      <td>0</td>\n",
       "      <td>350</td>\n",
       "      <td>0</td>\n",
       "      <td>1</td>\n",
       "      <td>0</td>\n",
       "      <td>4</td>\n",
       "    </tr>\n",
       "  </tbody>\n",
       "</table>\n",
       "</div>"
      ],
      "text/plain": [
       "   Menu Type  Menu Category  Menu Item  Size Type  Per Serving Size  \\\n",
       "0          0              2         45          1                 2   \n",
       "1          0             10         45          1                 2   \n",
       "2          0             12         15          1                 2   \n",
       "3          0              7         10          1                12   \n",
       "4          0              7         11          1                12   \n",
       "\n",
       "   Total Fat Calories (cal)  Total Fats (g)  Saturated Fats (g)  \\\n",
       "0                        80             9.0                 0.5   \n",
       "1                        25             2.5                 0.0   \n",
       "2                        25             3.0                 0.5   \n",
       "3                        50             6.0                 1.0   \n",
       "4                        35             4.0                 0.5   \n",
       "\n",
       "   Non-Saturated Fats (g)  Trans Fats (g)  Cholesterol (mg)  Sodium (g)  \\\n",
       "0                     8.5             0.0                 0         600   \n",
       "1                     2.5             0.0                 0         160   \n",
       "2                     2.5             0.0                 0           0   \n",
       "3                     5.0             0.0                 0         190   \n",
       "4                     3.5             0.0                 0         350   \n",
       "\n",
       "   Carbohydrates (g)  Dietary Fiber (g)  Sugar (g)  Protein (g)  \n",
       "0                  0                  3          0            8  \n",
       "1                  0                  1          0            2  \n",
       "2                  0                  1          0            1  \n",
       "3                  0                  2          0            4  \n",
       "4                  0                  1          0            4  "
      ]
     },
     "execution_count": 37,
     "metadata": {},
     "output_type": "execute_result"
    }
   ],
   "source": [
    "X.head()"
   ]
  },
  {
   "cell_type": "code",
   "execution_count": 38,
   "id": "a7455823",
   "metadata": {},
   "outputs": [
    {
     "data": {
      "text/html": [
       "<div>\n",
       "<style scoped>\n",
       "    .dataframe tbody tr th:only-of-type {\n",
       "        vertical-align: middle;\n",
       "    }\n",
       "\n",
       "    .dataframe tbody tr th {\n",
       "        vertical-align: top;\n",
       "    }\n",
       "\n",
       "    .dataframe thead th {\n",
       "        text-align: right;\n",
       "    }\n",
       "</style>\n",
       "<table border=\"1\" class=\"dataframe\">\n",
       "  <thead>\n",
       "    <tr style=\"text-align: right;\">\n",
       "      <th></th>\n",
       "      <th>Total Calories (cal)</th>\n",
       "    </tr>\n",
       "  </thead>\n",
       "  <tbody>\n",
       "    <tr>\n",
       "      <th>0</th>\n",
       "      <td>320</td>\n",
       "    </tr>\n",
       "    <tr>\n",
       "      <th>1</th>\n",
       "      <td>80</td>\n",
       "    </tr>\n",
       "    <tr>\n",
       "      <th>2</th>\n",
       "      <td>70</td>\n",
       "    </tr>\n",
       "    <tr>\n",
       "      <th>3</th>\n",
       "      <td>210</td>\n",
       "    </tr>\n",
       "    <tr>\n",
       "      <th>4</th>\n",
       "      <td>210</td>\n",
       "    </tr>\n",
       "  </tbody>\n",
       "</table>\n",
       "</div>"
      ],
      "text/plain": [
       "   Total Calories (cal)\n",
       "0                   320\n",
       "1                    80\n",
       "2                    70\n",
       "3                   210\n",
       "4                   210"
      ]
     },
     "execution_count": 38,
     "metadata": {},
     "output_type": "execute_result"
    }
   ],
   "source": [
    "y.head()"
   ]
  },
  {
   "cell_type": "code",
   "execution_count": 39,
   "id": "0d4a9c12",
   "metadata": {},
   "outputs": [],
   "source": [
    "from sklearn.model_selection import train_test_split\n",
    "X_train, X_test, y_train, y_test = train_test_split(X, y, test_size=0.33, random_state=42)"
   ]
  },
  {
   "cell_type": "code",
   "execution_count": 40,
   "id": "6ea20ce0",
   "metadata": {},
   "outputs": [
    {
     "data": {
      "text/plain": [
       "(68, 16)"
      ]
     },
     "execution_count": 40,
     "metadata": {},
     "output_type": "execute_result"
    }
   ],
   "source": [
    "X_train.shape"
   ]
  },
  {
   "cell_type": "code",
   "execution_count": 41,
   "id": "ba7f6646",
   "metadata": {},
   "outputs": [
    {
     "data": {
      "text/html": [
       "<style>#sk-container-id-1 {color: black;background-color: white;}#sk-container-id-1 pre{padding: 0;}#sk-container-id-1 div.sk-toggleable {background-color: white;}#sk-container-id-1 label.sk-toggleable__label {cursor: pointer;display: block;width: 100%;margin-bottom: 0;padding: 0.3em;box-sizing: border-box;text-align: center;}#sk-container-id-1 label.sk-toggleable__label-arrow:before {content: \"▸\";float: left;margin-right: 0.25em;color: #696969;}#sk-container-id-1 label.sk-toggleable__label-arrow:hover:before {color: black;}#sk-container-id-1 div.sk-estimator:hover label.sk-toggleable__label-arrow:before {color: black;}#sk-container-id-1 div.sk-toggleable__content {max-height: 0;max-width: 0;overflow: hidden;text-align: left;background-color: #f0f8ff;}#sk-container-id-1 div.sk-toggleable__content pre {margin: 0.2em;color: black;border-radius: 0.25em;background-color: #f0f8ff;}#sk-container-id-1 input.sk-toggleable__control:checked~div.sk-toggleable__content {max-height: 200px;max-width: 100%;overflow: auto;}#sk-container-id-1 input.sk-toggleable__control:checked~label.sk-toggleable__label-arrow:before {content: \"▾\";}#sk-container-id-1 div.sk-estimator input.sk-toggleable__control:checked~label.sk-toggleable__label {background-color: #d4ebff;}#sk-container-id-1 div.sk-label input.sk-toggleable__control:checked~label.sk-toggleable__label {background-color: #d4ebff;}#sk-container-id-1 input.sk-hidden--visually {border: 0;clip: rect(1px 1px 1px 1px);clip: rect(1px, 1px, 1px, 1px);height: 1px;margin: -1px;overflow: hidden;padding: 0;position: absolute;width: 1px;}#sk-container-id-1 div.sk-estimator {font-family: monospace;background-color: #f0f8ff;border: 1px dotted black;border-radius: 0.25em;box-sizing: border-box;margin-bottom: 0.5em;}#sk-container-id-1 div.sk-estimator:hover {background-color: #d4ebff;}#sk-container-id-1 div.sk-parallel-item::after {content: \"\";width: 100%;border-bottom: 1px solid gray;flex-grow: 1;}#sk-container-id-1 div.sk-label:hover label.sk-toggleable__label {background-color: #d4ebff;}#sk-container-id-1 div.sk-serial::before {content: \"\";position: absolute;border-left: 1px solid gray;box-sizing: border-box;top: 0;bottom: 0;left: 50%;z-index: 0;}#sk-container-id-1 div.sk-serial {display: flex;flex-direction: column;align-items: center;background-color: white;padding-right: 0.2em;padding-left: 0.2em;position: relative;}#sk-container-id-1 div.sk-item {position: relative;z-index: 1;}#sk-container-id-1 div.sk-parallel {display: flex;align-items: stretch;justify-content: center;background-color: white;position: relative;}#sk-container-id-1 div.sk-item::before, #sk-container-id-1 div.sk-parallel-item::before {content: \"\";position: absolute;border-left: 1px solid gray;box-sizing: border-box;top: 0;bottom: 0;left: 50%;z-index: -1;}#sk-container-id-1 div.sk-parallel-item {display: flex;flex-direction: column;z-index: 1;position: relative;background-color: white;}#sk-container-id-1 div.sk-parallel-item:first-child::after {align-self: flex-end;width: 50%;}#sk-container-id-1 div.sk-parallel-item:last-child::after {align-self: flex-start;width: 50%;}#sk-container-id-1 div.sk-parallel-item:only-child::after {width: 0;}#sk-container-id-1 div.sk-dashed-wrapped {border: 1px dashed gray;margin: 0 0.4em 0.5em 0.4em;box-sizing: border-box;padding-bottom: 0.4em;background-color: white;}#sk-container-id-1 div.sk-label label {font-family: monospace;font-weight: bold;display: inline-block;line-height: 1.2em;}#sk-container-id-1 div.sk-label-container {text-align: center;}#sk-container-id-1 div.sk-container {/* jupyter's `normalize.less` sets `[hidden] { display: none; }` but bootstrap.min.css set `[hidden] { display: none !important; }` so we also need the `!important` here to be able to override the default hidden behavior on the sphinx rendered scikit-learn.org. See: https://github.com/scikit-learn/scikit-learn/issues/21755 */display: inline-block !important;position: relative;}#sk-container-id-1 div.sk-text-repr-fallback {display: none;}</style><div id=\"sk-container-id-1\" class=\"sk-top-container\"><div class=\"sk-text-repr-fallback\"><pre>LinearRegression()</pre><b>In a Jupyter environment, please rerun this cell to show the HTML representation or trust the notebook. <br />On GitHub, the HTML representation is unable to render, please try loading this page with nbviewer.org.</b></div><div class=\"sk-container\" hidden><div class=\"sk-item\"><div class=\"sk-estimator sk-toggleable\"><input class=\"sk-toggleable__control sk-hidden--visually\" id=\"sk-estimator-id-1\" type=\"checkbox\" checked><label for=\"sk-estimator-id-1\" class=\"sk-toggleable__label sk-toggleable__label-arrow\">LinearRegression</label><div class=\"sk-toggleable__content\"><pre>LinearRegression()</pre></div></div></div></div></div>"
      ],
      "text/plain": [
       "LinearRegression()"
      ]
     },
     "execution_count": 41,
     "metadata": {},
     "output_type": "execute_result"
    }
   ],
   "source": [
    "from sklearn.linear_model import LinearRegression\n",
    "LR = LinearRegression()\n",
    "LR.fit(X_train,y_train)"
   ]
  },
  {
   "cell_type": "code",
   "execution_count": 42,
   "id": "0727ed20",
   "metadata": {},
   "outputs": [],
   "source": [
    "pred = LR.predict(X_test)"
   ]
  },
  {
   "cell_type": "code",
   "execution_count": 43,
   "id": "a92ac214",
   "metadata": {},
   "outputs": [
    {
     "name": "stdout",
     "output_type": "stream",
     "text": [
      "R2 score is 0.6105329583477983\n",
      "Mean squared error is == 7021.971158221217\n",
      "Root mean squared error is == 83.79720256799278\n"
     ]
    }
   ],
   "source": [
    "from sklearn.metrics import r2_score\n",
    "from sklearn.metrics import mean_squared_error\n",
    "score=r2_score(y_test,pred)\n",
    "print('R2 score is',score)\n",
    "print('Mean squared error is ==',mean_squared_error(y_test,pred))\n",
    "print('Root mean squared error is ==',np.sqrt(mean_squared_error(y_test,pred)))"
   ]
  },
  {
   "cell_type": "markdown",
   "id": "42f26cce",
   "metadata": {},
   "source": [
    "### Forward Selection"
   ]
  },
  {
   "cell_type": "code",
   "execution_count": 44,
   "id": "97090d96",
   "metadata": {},
   "outputs": [],
   "source": [
    "from mlxtend.feature_selection import SequentialFeatureSelector as sfs"
   ]
  },
  {
   "cell_type": "code",
   "execution_count": 45,
   "id": "6e42c16b",
   "metadata": {},
   "outputs": [
    {
     "data": {
      "text/plain": [
       "((68, 16), (34, 16), (68, 1), (34, 1))"
      ]
     },
     "execution_count": 45,
     "metadata": {},
     "output_type": "execute_result"
    }
   ],
   "source": [
    "x_train, x_test, y_train, y_test = train_test_split(X, y, test_size=0.33, random_state=42)\n",
    "x_train.shape, x_test.shape, y_train.shape, y_test.shape"
   ]
  },
  {
   "cell_type": "code",
   "execution_count": 46,
   "id": "535cb0a2",
   "metadata": {},
   "outputs": [
    {
     "name": "stdout",
     "output_type": "stream",
     "text": [
      "For 10 features, RMSE = 103.27545400320442\n",
      "For 10 features, R2score = 0.40843033462434764\n",
      "For 10 features, MSE = 10665.81939956799\n",
      "\n",
      "For 11 features, RMSE = 102.53009307544811\n",
      "For 11 features, R2score = 0.41693848916157783\n",
      "For 11 features, MSE = 10512.419986060051\n",
      "\n",
      "For 12 features, RMSE = 95.6973109253303\n",
      "For 12 features, R2score = 0.49206149179612746\n",
      "For 12 features, MSE = 9157.975318339342\n",
      "\n",
      "For 13 features, RMSE = 84.33348025052764\n",
      "For 13 features, R2score = 0.6055320560355886\n",
      "For 13 features, MSE = 7112.135891166136\n",
      "\n",
      "For 14 features, RMSE = 87.4811072533216\n",
      "For 14 features, R2score = 0.5755366347101472\n",
      "For 14 features, MSE = 7652.944126267156\n",
      "\n",
      "For 15 features, RMSE = 83.79720256799308\n",
      "For 15 features, R2score = 0.6105329583477956\n",
      "For 15 features, MSE = 7021.971158221266\n",
      "\n",
      "For 16 features, RMSE = 83.79720256799278\n",
      "For 16 features, R2score = 0.6105329583477983\n",
      "For 16 features, MSE = 7021.971158221217\n",
      "\n",
      "- - - - - - - - - - - -\n",
      "Mean RMSE =  91.55883580625971\n",
      "Mean R2 =  0.531366417574769\n",
      "Mean MSE = 8449.319576834736\n"
     ]
    }
   ],
   "source": [
    "rmse_frwd = []\n",
    "r2score_frwd = []\n",
    "mse_frwd = []\n",
    "\n",
    "for i in range(10, 17):\n",
    "    features_selector_forward = sfs(LinearRegression(),\n",
    "                k_features=i, \n",
    "                forward=True, \n",
    "                verbose=0, \n",
    "                scoring='neg_mean_squared_error')\n",
    "\n",
    "    features_selector_forward.fit(x_train, y_train)\n",
    "\n",
    "    X_fs = X[list(features_selector_forward.k_feature_names_)]\n",
    "\n",
    "    X_train, X_test, Y_train, Y_test = train_test_split(X_fs, y, test_size=0.33, random_state=42)\n",
    "\n",
    "    model = LinearRegression().fit(X_train,Y_train)\n",
    "\n",
    "    Y_pred = model.predict(X_test)\n",
    "    \n",
    "    rmse_frwd.append(np.sqrt(mean_squared_error(Y_test,Y_pred)))\n",
    "    r2score_frwd.append(r2_score(Y_test, Y_pred))\n",
    "    mse_frwd.append(mean_squared_error(Y_test,Y_pred))\n",
    "\n",
    "    print(\"For {} features, RMSE = {}\".format(i, np.sqrt(mean_squared_error(Y_test,Y_pred))))\n",
    "    print(\"For {} features, R2score = {}\".format(i, r2_score(Y_test, Y_pred)))\n",
    "    print(\"For {} features, MSE = {}\".format(i, mean_squared_error(Y_test,Y_pred)))\n",
    "    print()\n",
    "    \n",
    "print('- - - - - - - - - - - -')\n",
    "print(\"Mean RMSE = \", (sum(rmse_frwd) / len(rmse_frwd)))\n",
    "print(\"Mean R2 = \", (sum(r2score_frwd) / len(r2score_frwd)))\n",
    "print(\"Mean MSE =\", (sum(mse_frwd)/len(mse_frwd)))"
   ]
  },
  {
   "cell_type": "code",
   "execution_count": 47,
   "id": "802a3b2f",
   "metadata": {},
   "outputs": [
    {
     "data": {
      "image/png": "[encoded data removed]",
      "text/plain": [
       "<Figure size 432x288 with 1 Axes>"
      ]
     },
     "metadata": {
      "needs_background": "light"
     },
     "output_type": "display_data"
    }
   ],
   "source": [
    "import matplotlib.pyplot as plt\n",
    "\n",
    "features = [x for x in range(10,17)]\n",
    "\n",
    "plt.plot(features, r2score_frwd)\n",
    "plt.show()\n",
    "# Make sure to close the plt object once done\n",
    "#plt.close()"
   ]
  },
  {
   "cell_type": "code",
   "execution_count": 48,
   "id": "05d44e23",
   "metadata": {},
   "outputs": [
    {
     "data": {
      "text/html": [
       "<style>#sk-container-id-2 {color: black;background-color: white;}#sk-container-id-2 pre{padding: 0;}#sk-container-id-2 div.sk-toggleable {background-color: white;}#sk-container-id-2 label.sk-toggleable__label {cursor: pointer;display: block;width: 100%;margin-bottom: 0;padding: 0.3em;box-sizing: border-box;text-align: center;}#sk-container-id-2 label.sk-toggleable__label-arrow:before {content: \"▸\";float: left;margin-right: 0.25em;color: #696969;}#sk-container-id-2 label.sk-toggleable__label-arrow:hover:before {color: black;}#sk-container-id-2 div.sk-estimator:hover label.sk-toggleable__label-arrow:before {color: black;}#sk-container-id-2 div.sk-toggleable__content {max-height: 0;max-width: 0;overflow: hidden;text-align: left;background-color: #f0f8ff;}#sk-container-id-2 div.sk-toggleable__content pre {margin: 0.2em;color: black;border-radius: 0.25em;background-color: #f0f8ff;}#sk-container-id-2 input.sk-toggleable__control:checked~div.sk-toggleable__content {max-height: 200px;max-width: 100%;overflow: auto;}#sk-container-id-2 input.sk-toggleable__control:checked~label.sk-toggleable__label-arrow:before {content: \"▾\";}#sk-container-id-2 div.sk-estimator input.sk-toggleable__control:checked~label.sk-toggleable__label {background-color: #d4ebff;}#sk-container-id-2 div.sk-label input.sk-toggleable__control:checked~label.sk-toggleable__label {background-color: #d4ebff;}#sk-container-id-2 input.sk-hidden--visually {border: 0;clip: rect(1px 1px 1px 1px);clip: rect(1px, 1px, 1px, 1px);height: 1px;margin: -1px;overflow: hidden;padding: 0;position: absolute;width: 1px;}#sk-container-id-2 div.sk-estimator {font-family: monospace;background-color: #f0f8ff;border: 1px dotted black;border-radius: 0.25em;box-sizing: border-box;margin-bottom: 0.5em;}#sk-container-id-2 div.sk-estimator:hover {background-color: #d4ebff;}#sk-container-id-2 div.sk-parallel-item::after {content: \"\";width: 100%;border-bottom: 1px solid gray;flex-grow: 1;}#sk-container-id-2 div.sk-label:hover label.sk-toggleable__label {background-color: #d4ebff;}#sk-container-id-2 div.sk-serial::before {content: \"\";position: absolute;border-left: 1px solid gray;box-sizing: border-box;top: 0;bottom: 0;left: 50%;z-index: 0;}#sk-container-id-2 div.sk-serial {display: flex;flex-direction: column;align-items: center;background-color: white;padding-right: 0.2em;padding-left: 0.2em;position: relative;}#sk-container-id-2 div.sk-item {position: relative;z-index: 1;}#sk-container-id-2 div.sk-parallel {display: flex;align-items: stretch;justify-content: center;background-color: white;position: relative;}#sk-container-id-2 div.sk-item::before, #sk-container-id-2 div.sk-parallel-item::before {content: \"\";position: absolute;border-left: 1px solid gray;box-sizing: border-box;top: 0;bottom: 0;left: 50%;z-index: -1;}#sk-container-id-2 div.sk-parallel-item {display: flex;flex-direction: column;z-index: 1;position: relative;background-color: white;}#sk-container-id-2 div.sk-parallel-item:first-child::after {align-self: flex-end;width: 50%;}#sk-container-id-2 div.sk-parallel-item:last-child::after {align-self: flex-start;width: 50%;}#sk-container-id-2 div.sk-parallel-item:only-child::after {width: 0;}#sk-container-id-2 div.sk-dashed-wrapped {border: 1px dashed gray;margin: 0 0.4em 0.5em 0.4em;box-sizing: border-box;padding-bottom: 0.4em;background-color: white;}#sk-container-id-2 div.sk-label label {font-family: monospace;font-weight: bold;display: inline-block;line-height: 1.2em;}#sk-container-id-2 div.sk-label-container {text-align: center;}#sk-container-id-2 div.sk-container {/* jupyter's `normalize.less` sets `[hidden] { display: none; }` but bootstrap.min.css set `[hidden] { display: none !important; }` so we also need the `!important` here to be able to override the default hidden behavior on the sphinx rendered scikit-learn.org. See: https://github.com/scikit-learn/scikit-learn/issues/21755 */display: inline-block !important;position: relative;}#sk-container-id-2 div.sk-text-repr-fallback {display: none;}</style><div id=\"sk-container-id-2\" class=\"sk-top-container\"><div class=\"sk-text-repr-fallback\"><pre>SequentialFeatureSelector(estimator=LinearRegression(), k_features=(16, 16),\n",
       "                          scoring=&#x27;neg_mean_squared_error&#x27;)</pre><b>In a Jupyter environment, please rerun this cell to show the HTML representation or trust the notebook. <br />On GitHub, the HTML representation is unable to render, please try loading this page with nbviewer.org.</b></div><div class=\"sk-container\" hidden><div class=\"sk-item sk-dashed-wrapped\"><div class=\"sk-label-container\"><div class=\"sk-label sk-toggleable\"><input class=\"sk-toggleable__control sk-hidden--visually\" id=\"sk-estimator-id-2\" type=\"checkbox\" ><label for=\"sk-estimator-id-2\" class=\"sk-toggleable__label sk-toggleable__label-arrow\">SequentialFeatureSelector</label><div class=\"sk-toggleable__content\"><pre>SequentialFeatureSelector(estimator=LinearRegression(), k_features=(16, 16),\n",
       "                          scoring=&#x27;neg_mean_squared_error&#x27;)</pre></div></div></div><div class=\"sk-parallel\"><div class=\"sk-parallel-item\"><div class=\"sk-item\"><div class=\"sk-label-container\"><div class=\"sk-label sk-toggleable\"><input class=\"sk-toggleable__control sk-hidden--visually\" id=\"sk-estimator-id-3\" type=\"checkbox\" ><label for=\"sk-estimator-id-3\" class=\"sk-toggleable__label sk-toggleable__label-arrow\">estimator: LinearRegression</label><div class=\"sk-toggleable__content\"><pre>LinearRegression()</pre></div></div></div><div class=\"sk-serial\"><div class=\"sk-item\"><div class=\"sk-estimator sk-toggleable\"><input class=\"sk-toggleable__control sk-hidden--visually\" id=\"sk-estimator-id-4\" type=\"checkbox\" ><label for=\"sk-estimator-id-4\" class=\"sk-toggleable__label sk-toggleable__label-arrow\">LinearRegression</label><div class=\"sk-toggleable__content\"><pre>LinearRegression()</pre></div></div></div></div></div></div></div></div></div></div>"
      ],
      "text/plain": [
       "SequentialFeatureSelector(estimator=LinearRegression(), k_features=(16, 16),\n",
       "                          scoring='neg_mean_squared_error')"
      ]
     },
     "execution_count": 48,
     "metadata": {},
     "output_type": "execute_result"
    }
   ],
   "source": [
    "x_train, x_test, y_train, y_test = train_test_split(X, y, test_size=0.33, random_state=42)\n",
    "\n",
    "features_selector_forward = sfs(LinearRegression(),\n",
    "                k_features=16, \n",
    "                forward=True, \n",
    "                verbose=0, \n",
    "                scoring='neg_mean_squared_error')\n",
    "\n",
    "features_selector_forward.fit(x_train, y_train)"
   ]
  },
  {
   "cell_type": "code",
   "execution_count": 49,
   "id": "6a5077cd",
   "metadata": {},
   "outputs": [
    {
     "data": {
      "text/plain": [
       "('Menu Type',\n",
       " 'Menu Category',\n",
       " 'Menu Item',\n",
       " 'Size Type',\n",
       " 'Per Serving Size',\n",
       " 'Total Fat Calories (cal)',\n",
       " 'Total Fats (g)',\n",
       " 'Saturated Fats (g)',\n",
       " 'Non-Saturated Fats (g)',\n",
       " 'Trans Fats (g)',\n",
       " 'Cholesterol (mg)',\n",
       " 'Sodium (g)',\n",
       " 'Carbohydrates (g)',\n",
       " 'Dietary Fiber (g)',\n",
       " 'Sugar (g)',\n",
       " 'Protein (g)')"
      ]
     },
     "execution_count": 49,
     "metadata": {},
     "output_type": "execute_result"
    }
   ],
   "source": [
    "features_selector_forward.k_feature_names_"
   ]
  },
  {
   "cell_type": "code",
   "execution_count": 50,
   "id": "3c7a0481",
   "metadata": {},
   "outputs": [
    {
     "data": {
      "text/plain": [
       "(68, 16)"
      ]
     },
     "execution_count": 50,
     "metadata": {},
     "output_type": "execute_result"
    }
   ],
   "source": [
    "X_train_frwd = x_train[list(features_selector_forward.k_feature_names_)]\n",
    "X_train_frwd.shape"
   ]
  },
  {
   "cell_type": "code",
   "execution_count": 51,
   "id": "6e05a355",
   "metadata": {},
   "outputs": [],
   "source": [
    "model_frwd = LinearRegression().fit(X_train_frwd,y_train)"
   ]
  },
  {
   "cell_type": "code",
   "execution_count": 52,
   "id": "cb422b9b",
   "metadata": {},
   "outputs": [],
   "source": [
    "X_test_frwd = x_test[list(features_selector_forward.k_feature_names_)]"
   ]
  },
  {
   "cell_type": "code",
   "execution_count": 53,
   "id": "0f2f2ea4",
   "metadata": {},
   "outputs": [
    {
     "name": "stdout",
     "output_type": "stream",
     "text": [
      "RMSE =  83.79720256799278\n",
      "R2 score =  0.6105329583477983\n",
      "MSE = 7021.971158221217\n"
     ]
    }
   ],
   "source": [
    "y_pred_frwd = model_frwd.predict(X_test_frwd)\n",
    "    \n",
    "rmse = np.sqrt(mean_squared_error(y_test,y_pred_frwd))\n",
    "r2score = r2_score(y_test, y_pred_frwd)\n",
    "mse = mean_squared_error(Y_test,Y_pred)\n",
    "\n",
    "print('RMSE = ', rmse)\n",
    "print('R2 score = ', r2score)\n",
    "print('MSE =', mse)"
   ]
  },
  {
   "cell_type": "markdown",
   "id": "05bcf54e",
   "metadata": {},
   "source": [
    "### Backward Selection"
   ]
  },
  {
   "cell_type": "code",
   "execution_count": 54,
   "id": "cd773c1e",
   "metadata": {},
   "outputs": [],
   "source": [
    "x_train, x_test, y_train, y_test = train_test_split(X, y, test_size=0.33, random_state=42)"
   ]
  },
  {
   "cell_type": "code",
   "execution_count": 55,
   "id": "0fd4520f",
   "metadata": {},
   "outputs": [
    {
     "name": "stdout",
     "output_type": "stream",
     "text": [
      "For 10 features, RMSE = 53.98478974033155\n",
      "For 10 features, R2score = 0.8604692525562916\n",
      "\n",
      "For 11 features, RMSE = 53.98478974033156\n",
      "For 11 features, R2score = 0.8604692525562916\n",
      "\n",
      "For 12 features, RMSE = 54.04166959859107\n",
      "For 12 features, R2score = 0.8601750707977931\n",
      "\n",
      "For 13 features, RMSE = 54.128537872433014\n",
      "For 13 features, R2score = 0.8597251915641487\n",
      "\n",
      "For 14 features, RMSE = 54.3849904468514\n",
      "For 14 features, R2score = 0.8583928424418673\n",
      "\n",
      "For 15 features, RMSE = 54.67910886132745\n",
      "For 15 features, R2score = 0.8568570549523744\n",
      "\n",
      "For 16 features, RMSE = 53.76842438783326\n",
      "For 16 features, R2score = 0.8615854603286022\n",
      "\n",
      "- - - - - - - - - - - -\n",
      "Mean RMSE =  54.1389015210999\n",
      "Mean R2 =  0.8596677321710526\n"
     ]
    }
   ],
   "source": [
    "rmse_bkwd = []\n",
    "r2score_bkwd = []\n",
    "mse_bkwd = []\n",
    "\n",
    "for i in range(10, 17):\n",
    "    \n",
    "    features_selector_backward = sfs(LinearRegression(),\n",
    "                k_features=i, \n",
    "                forward=False, \n",
    "                verbose=0, \n",
    "                scoring='neg_mean_squared_error')\n",
    "\n",
    "    features_selector_backward.fit(x_train, y_train)\n",
    "\n",
    "    X_bs = X[list(features_selector_backward.k_feature_names_)]\n",
    "\n",
    "    X_train, X_test, Y_train, Y_test = train_test_split(X_bs, y, test_size=0.2, random_state=42)\n",
    "\n",
    "    model = LinearRegression().fit(X_train,Y_train)\n",
    "\n",
    "    Y_pred = model.predict(X_test)\n",
    "    \n",
    "    rmse_bkwd.append(np.sqrt(mean_squared_error(Y_test,Y_pred)))\n",
    "    r2score_bkwd.append(r2_score(Y_test, Y_pred))\n",
    "\n",
    "    print(\"For {} features, RMSE = {}\".format(i, np.sqrt(mean_squared_error(Y_test,Y_pred))))\n",
    "    print(\"For {} features, R2score = {}\".format(i, r2_score(Y_test, Y_pred)))\n",
    "    \n",
    "    print()\n",
    "    \n",
    "print('- - - - - - - - - - - -')\n",
    "print(\"Mean RMSE = \", (sum(rmse_bkwd) / len(rmse_bkwd)))\n",
    "print(\"Mean R2 = \", (sum(r2score_bkwd) / len(r2score_bkwd)))"
   ]
  },
  {
   "cell_type": "code",
   "execution_count": 56,
   "id": "2dd33a8a",
   "metadata": {},
   "outputs": [
    {
     "data": {
      "image/png": "[encoded data removed]",
      "text/plain": [
       "<Figure size 432x288 with 1 Axes>"
      ]
     },
     "metadata": {
      "needs_background": "light"
     },
     "output_type": "display_data"
    }
   ],
   "source": [
    "import matplotlib.pyplot as plt\n",
    "\n",
    "x = [x for x in range(10,17)]\n",
    "\n",
    "plt.plot(x, r2score_bkwd)\n",
    "plt.show()\n",
    "# Make sure to close the plt object once done\n",
    "#plt.close()"
   ]
  },
  {
   "cell_type": "code",
   "execution_count": 57,
   "id": "63f9db44",
   "metadata": {},
   "outputs": [
    {
     "data": {
      "text/html": [
       "<style>#sk-container-id-3 {color: black;background-color: white;}#sk-container-id-3 pre{padding: 0;}#sk-container-id-3 div.sk-toggleable {background-color: white;}#sk-container-id-3 label.sk-toggleable__label {cursor: pointer;display: block;width: 100%;margin-bottom: 0;padding: 0.3em;box-sizing: border-box;text-align: center;}#sk-container-id-3 label.sk-toggleable__label-arrow:before {content: \"▸\";float: left;margin-right: 0.25em;color: #696969;}#sk-container-id-3 label.sk-toggleable__label-arrow:hover:before {color: black;}#sk-container-id-3 div.sk-estimator:hover label.sk-toggleable__label-arrow:before {color: black;}#sk-container-id-3 div.sk-toggleable__content {max-height: 0;max-width: 0;overflow: hidden;text-align: left;background-color: #f0f8ff;}#sk-container-id-3 div.sk-toggleable__content pre {margin: 0.2em;color: black;border-radius: 0.25em;background-color: #f0f8ff;}#sk-container-id-3 input.sk-toggleable__control:checked~div.sk-toggleable__content {max-height: 200px;max-width: 100%;overflow: auto;}#sk-container-id-3 input.sk-toggleable__control:checked~label.sk-toggleable__label-arrow:before {content: \"▾\";}#sk-container-id-3 div.sk-estimator input.sk-toggleable__control:checked~label.sk-toggleable__label {background-color: #d4ebff;}#sk-container-id-3 div.sk-label input.sk-toggleable__control:checked~label.sk-toggleable__label {background-color: #d4ebff;}#sk-container-id-3 input.sk-hidden--visually {border: 0;clip: rect(1px 1px 1px 1px);clip: rect(1px, 1px, 1px, 1px);height: 1px;margin: -1px;overflow: hidden;padding: 0;position: absolute;width: 1px;}#sk-container-id-3 div.sk-estimator {font-family: monospace;background-color: #f0f8ff;border: 1px dotted black;border-radius: 0.25em;box-sizing: border-box;margin-bottom: 0.5em;}#sk-container-id-3 div.sk-estimator:hover {background-color: #d4ebff;}#sk-container-id-3 div.sk-parallel-item::after {content: \"\";width: 100%;border-bottom: 1px solid gray;flex-grow: 1;}#sk-container-id-3 div.sk-label:hover label.sk-toggleable__label {background-color: #d4ebff;}#sk-container-id-3 div.sk-serial::before {content: \"\";position: absolute;border-left: 1px solid gray;box-sizing: border-box;top: 0;bottom: 0;left: 50%;z-index: 0;}#sk-container-id-3 div.sk-serial {display: flex;flex-direction: column;align-items: center;background-color: white;padding-right: 0.2em;padding-left: 0.2em;position: relative;}#sk-container-id-3 div.sk-item {position: relative;z-index: 1;}#sk-container-id-3 div.sk-parallel {display: flex;align-items: stretch;justify-content: center;background-color: white;position: relative;}#sk-container-id-3 div.sk-item::before, #sk-container-id-3 div.sk-parallel-item::before {content: \"\";position: absolute;border-left: 1px solid gray;box-sizing: border-box;top: 0;bottom: 0;left: 50%;z-index: -1;}#sk-container-id-3 div.sk-parallel-item {display: flex;flex-direction: column;z-index: 1;position: relative;background-color: white;}#sk-container-id-3 div.sk-parallel-item:first-child::after {align-self: flex-end;width: 50%;}#sk-container-id-3 div.sk-parallel-item:last-child::after {align-self: flex-start;width: 50%;}#sk-container-id-3 div.sk-parallel-item:only-child::after {width: 0;}#sk-container-id-3 div.sk-dashed-wrapped {border: 1px dashed gray;margin: 0 0.4em 0.5em 0.4em;box-sizing: border-box;padding-bottom: 0.4em;background-color: white;}#sk-container-id-3 div.sk-label label {font-family: monospace;font-weight: bold;display: inline-block;line-height: 1.2em;}#sk-container-id-3 div.sk-label-container {text-align: center;}#sk-container-id-3 div.sk-container {/* jupyter's `normalize.less` sets `[hidden] { display: none; }` but bootstrap.min.css set `[hidden] { display: none !important; }` so we also need the `!important` here to be able to override the default hidden behavior on the sphinx rendered scikit-learn.org. See: https://github.com/scikit-learn/scikit-learn/issues/21755 */display: inline-block !important;position: relative;}#sk-container-id-3 div.sk-text-repr-fallback {display: none;}</style><div id=\"sk-container-id-3\" class=\"sk-top-container\"><div class=\"sk-text-repr-fallback\"><pre>SequentialFeatureSelector(estimator=LinearRegression(), forward=False,\n",
       "                          k_features=(16, 16),\n",
       "                          scoring=&#x27;neg_mean_squared_error&#x27;)</pre><b>In a Jupyter environment, please rerun this cell to show the HTML representation or trust the notebook. <br />On GitHub, the HTML representation is unable to render, please try loading this page with nbviewer.org.</b></div><div class=\"sk-container\" hidden><div class=\"sk-item sk-dashed-wrapped\"><div class=\"sk-label-container\"><div class=\"sk-label sk-toggleable\"><input class=\"sk-toggleable__control sk-hidden--visually\" id=\"sk-estimator-id-5\" type=\"checkbox\" ><label for=\"sk-estimator-id-5\" class=\"sk-toggleable__label sk-toggleable__label-arrow\">SequentialFeatureSelector</label><div class=\"sk-toggleable__content\"><pre>SequentialFeatureSelector(estimator=LinearRegression(), forward=False,\n",
       "                          k_features=(16, 16),\n",
       "                          scoring=&#x27;neg_mean_squared_error&#x27;)</pre></div></div></div><div class=\"sk-parallel\"><div class=\"sk-parallel-item\"><div class=\"sk-item\"><div class=\"sk-label-container\"><div class=\"sk-label sk-toggleable\"><input class=\"sk-toggleable__control sk-hidden--visually\" id=\"sk-estimator-id-6\" type=\"checkbox\" ><label for=\"sk-estimator-id-6\" class=\"sk-toggleable__label sk-toggleable__label-arrow\">estimator: LinearRegression</label><div class=\"sk-toggleable__content\"><pre>LinearRegression()</pre></div></div></div><div class=\"sk-serial\"><div class=\"sk-item\"><div class=\"sk-estimator sk-toggleable\"><input class=\"sk-toggleable__control sk-hidden--visually\" id=\"sk-estimator-id-7\" type=\"checkbox\" ><label for=\"sk-estimator-id-7\" class=\"sk-toggleable__label sk-toggleable__label-arrow\">LinearRegression</label><div class=\"sk-toggleable__content\"><pre>LinearRegression()</pre></div></div></div></div></div></div></div></div></div></div>"
      ],
      "text/plain": [
       "SequentialFeatureSelector(estimator=LinearRegression(), forward=False,\n",
       "                          k_features=(16, 16),\n",
       "                          scoring='neg_mean_squared_error')"
      ]
     },
     "execution_count": 57,
     "metadata": {},
     "output_type": "execute_result"
    }
   ],
   "source": [
    "x_train, X_test, y_train, y_test = train_test_split(X, y, test_size=0.33, random_state=42)\n",
    "\n",
    "features_selector_backward = sfs(LinearRegression(),\n",
    "                k_features=16, \n",
    "                forward=False, \n",
    "                verbose=0, \n",
    "                scoring='neg_mean_squared_error')\n",
    "\n",
    "features_selector_backward.fit(x_train, y_train)"
   ]
  },
  {
   "cell_type": "code",
   "execution_count": 58,
   "id": "b626adc1",
   "metadata": {},
   "outputs": [
    {
     "data": {
      "text/plain": [
       "('Menu Type',\n",
       " 'Menu Category',\n",
       " 'Menu Item',\n",
       " 'Size Type',\n",
       " 'Per Serving Size',\n",
       " 'Total Fat Calories (cal)',\n",
       " 'Total Fats (g)',\n",
       " 'Saturated Fats (g)',\n",
       " 'Non-Saturated Fats (g)',\n",
       " 'Trans Fats (g)',\n",
       " 'Cholesterol (mg)',\n",
       " 'Sodium (g)',\n",
       " 'Carbohydrates (g)',\n",
       " 'Dietary Fiber (g)',\n",
       " 'Sugar (g)',\n",
       " 'Protein (g)')"
      ]
     },
     "execution_count": 58,
     "metadata": {},
     "output_type": "execute_result"
    }
   ],
   "source": [
    "features_selector_backward.k_feature_names_"
   ]
  },
  {
   "cell_type": "code",
   "execution_count": 59,
   "id": "beebf453",
   "metadata": {},
   "outputs": [
    {
     "data": {
      "text/plain": [
       "(68, 16)"
      ]
     },
     "execution_count": 59,
     "metadata": {},
     "output_type": "execute_result"
    }
   ],
   "source": [
    "X_train_bkwd = x_train[list(features_selector_backward.k_feature_names_)]\n",
    "X_train_bkwd.shape"
   ]
  },
  {
   "cell_type": "code",
   "execution_count": 60,
   "id": "204e35bb",
   "metadata": {},
   "outputs": [],
   "source": [
    "model_bkwd = LinearRegression().fit(X_train_bkwd,y_train)"
   ]
  },
  {
   "cell_type": "code",
   "execution_count": 61,
   "id": "99ee6adb",
   "metadata": {},
   "outputs": [],
   "source": [
    "X_test_bkwd = x_test[list(features_selector_backward.k_feature_names_)]"
   ]
  },
  {
   "cell_type": "code",
   "execution_count": 62,
   "id": "f40a5af1",
   "metadata": {},
   "outputs": [
    {
     "name": "stdout",
     "output_type": "stream",
     "text": [
      "RMSE =  83.79720256799278\n",
      "R2 score =  0.6105329583477983\n"
     ]
    }
   ],
   "source": [
    "y_pred_bkwd = model_frwd.predict(X_test_bkwd)\n",
    "    \n",
    "rmse = np.sqrt(mean_squared_error(y_test,y_pred_bkwd))\n",
    "r2score = r2_score(y_test, y_pred_bkwd)\n",
    "\n",
    "print('RMSE = ', rmse)\n",
    "print('R2 score = ', r2score)"
   ]
  },
  {
   "cell_type": "markdown",
   "id": "ac414f03",
   "metadata": {},
   "source": [
    "### PCA"
   ]
  },
  {
   "cell_type": "markdown",
   "id": "0eef4721",
   "metadata": {},
   "source": [
    "### Next i used pca to reduce dimensioanality reduction by keeping 95% variance"
   ]
  },
  {
   "cell_type": "code",
   "execution_count": 63,
   "id": "b23b2b41",
   "metadata": {},
   "outputs": [],
   "source": [
    "from sklearn.decomposition import PCA"
   ]
  },
  {
   "cell_type": "code",
   "execution_count": 64,
   "id": "9fd73820",
   "metadata": {},
   "outputs": [
    {
     "data": {
      "text/plain": [
       "((68, 16), (34, 16), (68, 1), (34, 1))"
      ]
     },
     "execution_count": 64,
     "metadata": {},
     "output_type": "execute_result"
    }
   ],
   "source": [
    "X_train, X_test, y_train, y_test = train_test_split(X, y, test_size=0.33, random_state=42)\n",
    "X_train.shape, X_test.shape, y_train.shape, y_test.shape"
   ]
  },
  {
   "cell_type": "code",
   "execution_count": 65,
   "id": "5580134f",
   "metadata": {},
   "outputs": [
    {
     "data": {
      "text/html": [
       "<div>\n",
       "<style scoped>\n",
       "    .dataframe tbody tr th:only-of-type {\n",
       "        vertical-align: middle;\n",
       "    }\n",
       "\n",
       "    .dataframe tbody tr th {\n",
       "        vertical-align: top;\n",
       "    }\n",
       "\n",
       "    .dataframe thead th {\n",
       "        text-align: right;\n",
       "    }\n",
       "</style>\n",
       "<table border=\"1\" class=\"dataframe\">\n",
       "  <thead>\n",
       "    <tr style=\"text-align: right;\">\n",
       "      <th></th>\n",
       "      <th>0</th>\n",
       "      <th>1</th>\n",
       "      <th>2</th>\n",
       "    </tr>\n",
       "  </thead>\n",
       "  <tbody>\n",
       "    <tr>\n",
       "      <th>0</th>\n",
       "      <td>666.380517</td>\n",
       "      <td>73.582557</td>\n",
       "      <td>-63.388184</td>\n",
       "    </tr>\n",
       "    <tr>\n",
       "      <th>1</th>\n",
       "      <td>-177.285798</td>\n",
       "      <td>36.902033</td>\n",
       "      <td>37.719082</td>\n",
       "    </tr>\n",
       "    <tr>\n",
       "      <th>2</th>\n",
       "      <td>20.760811</td>\n",
       "      <td>-18.094103</td>\n",
       "      <td>-38.894837</td>\n",
       "    </tr>\n",
       "    <tr>\n",
       "      <th>3</th>\n",
       "      <td>-126.569355</td>\n",
       "      <td>-43.164647</td>\n",
       "      <td>-21.045858</td>\n",
       "    </tr>\n",
       "    <tr>\n",
       "      <th>4</th>\n",
       "      <td>-187.529996</td>\n",
       "      <td>-11.467036</td>\n",
       "      <td>15.325786</td>\n",
       "    </tr>\n",
       "    <tr>\n",
       "      <th>...</th>\n",
       "      <td>...</td>\n",
       "      <td>...</td>\n",
       "      <td>...</td>\n",
       "    </tr>\n",
       "    <tr>\n",
       "      <th>63</th>\n",
       "      <td>-183.799649</td>\n",
       "      <td>-56.763876</td>\n",
       "      <td>-8.257259</td>\n",
       "    </tr>\n",
       "    <tr>\n",
       "      <th>64</th>\n",
       "      <td>133.191392</td>\n",
       "      <td>5.781994</td>\n",
       "      <td>-29.745542</td>\n",
       "    </tr>\n",
       "    <tr>\n",
       "      <th>65</th>\n",
       "      <td>135.153379</td>\n",
       "      <td>11.014854</td>\n",
       "      <td>-63.959313</td>\n",
       "    </tr>\n",
       "    <tr>\n",
       "      <th>66</th>\n",
       "      <td>294.598936</td>\n",
       "      <td>48.780044</td>\n",
       "      <td>-110.694788</td>\n",
       "    </tr>\n",
       "    <tr>\n",
       "      <th>67</th>\n",
       "      <td>-99.355976</td>\n",
       "      <td>87.514422</td>\n",
       "      <td>38.922484</td>\n",
       "    </tr>\n",
       "  </tbody>\n",
       "</table>\n",
       "<p>68 rows × 3 columns</p>\n",
       "</div>"
      ],
      "text/plain": [
       "             0          1           2\n",
       "0   666.380517  73.582557  -63.388184\n",
       "1  -177.285798  36.902033   37.719082\n",
       "2    20.760811 -18.094103  -38.894837\n",
       "3  -126.569355 -43.164647  -21.045858\n",
       "4  -187.529996 -11.467036   15.325786\n",
       "..         ...        ...         ...\n",
       "63 -183.799649 -56.763876   -8.257259\n",
       "64  133.191392   5.781994  -29.745542\n",
       "65  135.153379  11.014854  -63.959313\n",
       "66  294.598936  48.780044 -110.694788\n",
       "67  -99.355976  87.514422   38.922484\n",
       "\n",
       "[68 rows x 3 columns]"
      ]
     },
     "execution_count": 65,
     "metadata": {},
     "output_type": "execute_result"
    }
   ],
   "source": [
    "pca = PCA(0.95)\n",
    "\n",
    "X_train_pca = pca.fit_transform(X_train)\n",
    "\n",
    "principalDf = pd.DataFrame(data = X_train_pca)\n",
    "principalDf"
   ]
  },
  {
   "cell_type": "code",
   "execution_count": 66,
   "id": "493a8ff5",
   "metadata": {},
   "outputs": [
    {
     "data": {
      "text/html": [
       "<div>\n",
       "<style scoped>\n",
       "    .dataframe tbody tr th:only-of-type {\n",
       "        vertical-align: middle;\n",
       "    }\n",
       "\n",
       "    .dataframe tbody tr th {\n",
       "        vertical-align: top;\n",
       "    }\n",
       "\n",
       "    .dataframe thead th {\n",
       "        text-align: right;\n",
       "    }\n",
       "</style>\n",
       "<table border=\"1\" class=\"dataframe\">\n",
       "  <thead>\n",
       "    <tr style=\"text-align: right;\">\n",
       "      <th></th>\n",
       "      <th>0</th>\n",
       "      <th>1</th>\n",
       "      <th>2</th>\n",
       "    </tr>\n",
       "  </thead>\n",
       "  <tbody>\n",
       "    <tr>\n",
       "      <th>0</th>\n",
       "      <td>-25.319958</td>\n",
       "      <td>126.887404</td>\n",
       "      <td>35.958608</td>\n",
       "    </tr>\n",
       "    <tr>\n",
       "      <th>1</th>\n",
       "      <td>-187.631085</td>\n",
       "      <td>-10.193778</td>\n",
       "      <td>16.018906</td>\n",
       "    </tr>\n",
       "    <tr>\n",
       "      <th>2</th>\n",
       "      <td>-190.955094</td>\n",
       "      <td>22.787008</td>\n",
       "      <td>36.548974</td>\n",
       "    </tr>\n",
       "    <tr>\n",
       "      <th>3</th>\n",
       "      <td>-101.369034</td>\n",
       "      <td>55.971168</td>\n",
       "      <td>22.745339</td>\n",
       "    </tr>\n",
       "    <tr>\n",
       "      <th>4</th>\n",
       "      <td>-85.577102</td>\n",
       "      <td>96.944879</td>\n",
       "      <td>39.216868</td>\n",
       "    </tr>\n",
       "    <tr>\n",
       "      <th>5</th>\n",
       "      <td>-59.747688</td>\n",
       "      <td>-29.185769</td>\n",
       "      <td>-36.246722</td>\n",
       "    </tr>\n",
       "    <tr>\n",
       "      <th>6</th>\n",
       "      <td>-0.118368</td>\n",
       "      <td>-13.355949</td>\n",
       "      <td>-37.021637</td>\n",
       "    </tr>\n",
       "    <tr>\n",
       "      <th>7</th>\n",
       "      <td>-116.263791</td>\n",
       "      <td>58.333741</td>\n",
       "      <td>29.524902</td>\n",
       "    </tr>\n",
       "    <tr>\n",
       "      <th>8</th>\n",
       "      <td>282.956947</td>\n",
       "      <td>-21.885102</td>\n",
       "      <td>-1.958905</td>\n",
       "    </tr>\n",
       "    <tr>\n",
       "      <th>9</th>\n",
       "      <td>411.967949</td>\n",
       "      <td>33.428051</td>\n",
       "      <td>-69.128866</td>\n",
       "    </tr>\n",
       "    <tr>\n",
       "      <th>10</th>\n",
       "      <td>-127.662380</td>\n",
       "      <td>-89.326268</td>\n",
       "      <td>62.985173</td>\n",
       "    </tr>\n",
       "    <tr>\n",
       "      <th>11</th>\n",
       "      <td>-110.416561</td>\n",
       "      <td>46.690186</td>\n",
       "      <td>21.638887</td>\n",
       "    </tr>\n",
       "    <tr>\n",
       "      <th>12</th>\n",
       "      <td>-183.673363</td>\n",
       "      <td>-54.953314</td>\n",
       "      <td>-8.684441</td>\n",
       "    </tr>\n",
       "    <tr>\n",
       "      <th>13</th>\n",
       "      <td>-142.169864</td>\n",
       "      <td>-52.031988</td>\n",
       "      <td>-9.002939</td>\n",
       "    </tr>\n",
       "    <tr>\n",
       "      <th>14</th>\n",
       "      <td>-29.140121</td>\n",
       "      <td>-18.329485</td>\n",
       "      <td>-28.190897</td>\n",
       "    </tr>\n",
       "    <tr>\n",
       "      <th>15</th>\n",
       "      <td>160.350935</td>\n",
       "      <td>-0.112750</td>\n",
       "      <td>-53.482130</td>\n",
       "    </tr>\n",
       "    <tr>\n",
       "      <th>16</th>\n",
       "      <td>-119.887616</td>\n",
       "      <td>-47.274615</td>\n",
       "      <td>-18.103385</td>\n",
       "    </tr>\n",
       "    <tr>\n",
       "      <th>17</th>\n",
       "      <td>-121.859299</td>\n",
       "      <td>11.852208</td>\n",
       "      <td>6.916361</td>\n",
       "    </tr>\n",
       "    <tr>\n",
       "      <th>18</th>\n",
       "      <td>373.340486</td>\n",
       "      <td>30.856197</td>\n",
       "      <td>-56.700198</td>\n",
       "    </tr>\n",
       "    <tr>\n",
       "      <th>19</th>\n",
       "      <td>254.952209</td>\n",
       "      <td>-78.958287</td>\n",
       "      <td>105.437710</td>\n",
       "    </tr>\n",
       "    <tr>\n",
       "      <th>20</th>\n",
       "      <td>-185.459696</td>\n",
       "      <td>-34.221242</td>\n",
       "      <td>2.341165</td>\n",
       "    </tr>\n",
       "    <tr>\n",
       "      <th>21</th>\n",
       "      <td>-101.276072</td>\n",
       "      <td>54.426304</td>\n",
       "      <td>22.113760</td>\n",
       "    </tr>\n",
       "    <tr>\n",
       "      <th>22</th>\n",
       "      <td>335.216234</td>\n",
       "      <td>-31.464607</td>\n",
       "      <td>33.143159</td>\n",
       "    </tr>\n",
       "    <tr>\n",
       "      <th>23</th>\n",
       "      <td>-184.720537</td>\n",
       "      <td>11.710454</td>\n",
       "      <td>26.754643</td>\n",
       "    </tr>\n",
       "    <tr>\n",
       "      <th>24</th>\n",
       "      <td>-23.533947</td>\n",
       "      <td>111.055927</td>\n",
       "      <td>25.164210</td>\n",
       "    </tr>\n",
       "    <tr>\n",
       "      <th>25</th>\n",
       "      <td>-184.618473</td>\n",
       "      <td>-46.120352</td>\n",
       "      <td>-3.249899</td>\n",
       "    </tr>\n",
       "    <tr>\n",
       "      <th>26</th>\n",
       "      <td>65.627221</td>\n",
       "      <td>-0.954250</td>\n",
       "      <td>-59.216998</td>\n",
       "    </tr>\n",
       "    <tr>\n",
       "      <th>27</th>\n",
       "      <td>-170.220500</td>\n",
       "      <td>-68.003141</td>\n",
       "      <td>40.490073</td>\n",
       "    </tr>\n",
       "    <tr>\n",
       "      <th>28</th>\n",
       "      <td>-97.919916</td>\n",
       "      <td>-37.552722</td>\n",
       "      <td>-27.756443</td>\n",
       "    </tr>\n",
       "    <tr>\n",
       "      <th>29</th>\n",
       "      <td>134.740418</td>\n",
       "      <td>-27.470699</td>\n",
       "      <td>-21.916018</td>\n",
       "    </tr>\n",
       "    <tr>\n",
       "      <th>30</th>\n",
       "      <td>30.542168</td>\n",
       "      <td>-18.443577</td>\n",
       "      <td>-45.979970</td>\n",
       "    </tr>\n",
       "    <tr>\n",
       "      <th>31</th>\n",
       "      <td>151.948553</td>\n",
       "      <td>-18.256199</td>\n",
       "      <td>-27.336283</td>\n",
       "    </tr>\n",
       "    <tr>\n",
       "      <th>32</th>\n",
       "      <td>-76.810277</td>\n",
       "      <td>-53.376893</td>\n",
       "      <td>28.336628</td>\n",
       "    </tr>\n",
       "    <tr>\n",
       "      <th>33</th>\n",
       "      <td>-115.575492</td>\n",
       "      <td>51.511718</td>\n",
       "      <td>25.295190</td>\n",
       "    </tr>\n",
       "  </tbody>\n",
       "</table>\n",
       "</div>"
      ],
      "text/plain": [
       "             0           1           2\n",
       "0   -25.319958  126.887404   35.958608\n",
       "1  -187.631085  -10.193778   16.018906\n",
       "2  -190.955094   22.787008   36.548974\n",
       "3  -101.369034   55.971168   22.745339\n",
       "4   -85.577102   96.944879   39.216868\n",
       "5   -59.747688  -29.185769  -36.246722\n",
       "6    -0.118368  -13.355949  -37.021637\n",
       "7  -116.263791   58.333741   29.524902\n",
       "8   282.956947  -21.885102   -1.958905\n",
       "9   411.967949   33.428051  -69.128866\n",
       "10 -127.662380  -89.326268   62.985173\n",
       "11 -110.416561   46.690186   21.638887\n",
       "12 -183.673363  -54.953314   -8.684441\n",
       "13 -142.169864  -52.031988   -9.002939\n",
       "14  -29.140121  -18.329485  -28.190897\n",
       "15  160.350935   -0.112750  -53.482130\n",
       "16 -119.887616  -47.274615  -18.103385\n",
       "17 -121.859299   11.852208    6.916361\n",
       "18  373.340486   30.856197  -56.700198\n",
       "19  254.952209  -78.958287  105.437710\n",
       "20 -185.459696  -34.221242    2.341165\n",
       "21 -101.276072   54.426304   22.113760\n",
       "22  335.216234  -31.464607   33.143159\n",
       "23 -184.720537   11.710454   26.754643\n",
       "24  -23.533947  111.055927   25.164210\n",
       "25 -184.618473  -46.120352   -3.249899\n",
       "26   65.627221   -0.954250  -59.216998\n",
       "27 -170.220500  -68.003141   40.490073\n",
       "28  -97.919916  -37.552722  -27.756443\n",
       "29  134.740418  -27.470699  -21.916018\n",
       "30   30.542168  -18.443577  -45.979970\n",
       "31  151.948553  -18.256199  -27.336283\n",
       "32  -76.810277  -53.376893   28.336628\n",
       "33 -115.575492   51.511718   25.295190"
      ]
     },
     "execution_count": 66,
     "metadata": {},
     "output_type": "execute_result"
    }
   ],
   "source": [
    "X_test_pca = pca.transform(X_test)\n",
    "\n",
    "principalDf = pd.DataFrame(data = X_test_pca)\n",
    "principalDf"
   ]
  },
  {
   "cell_type": "markdown",
   "id": "a0701f1a",
   "metadata": {},
   "source": [
    "### Applying linear regression"
   ]
  },
  {
   "cell_type": "code",
   "execution_count": 67,
   "id": "85958e05",
   "metadata": {},
   "outputs": [],
   "source": [
    "model_pca = LinearRegression().fit(X_train_pca,y_train)"
   ]
  },
  {
   "cell_type": "code",
   "execution_count": 68,
   "id": "2ba613bb",
   "metadata": {},
   "outputs": [
    {
     "name": "stdout",
     "output_type": "stream",
     "text": [
      "RMSE =  56.08395287144336\n",
      "R2 score =  0.8255427984278463\n"
     ]
    }
   ],
   "source": [
    "y_pred_pca = model_pca.predict(X_test_pca)\n",
    "    \n",
    "rmse = np.sqrt(mean_squared_error(y_test,y_pred_pca))\n",
    "r2score = r2_score(y_test, y_pred_pca)\n",
    "\n",
    "print('RMSE = ', rmse)\n",
    "print('R2 score = ', r2score)"
   ]
  },
  {
   "cell_type": "code",
   "execution_count": 69,
   "id": "9e10b266",
   "metadata": {},
   "outputs": [
    {
     "data": {
      "text/plain": [
       "((102, 16), (102, 1))"
      ]
     },
     "execution_count": 69,
     "metadata": {},
     "output_type": "execute_result"
    }
   ],
   "source": [
    "X.shape,y.shape"
   ]
  },
  {
   "cell_type": "markdown",
   "id": "83da10c0",
   "metadata": {},
   "source": [
    "### PCA shows significant improvement"
   ]
  },
  {
   "cell_type": "markdown",
   "id": "ec1ed72d",
   "metadata": {},
   "source": [
    "### Ridge Lasso"
   ]
  },
  {
   "cell_type": "markdown",
   "id": "4e2a2e60",
   "metadata": {},
   "source": [
    "### Next we apply Ridge and Lasso Regression with respecitive pentaly terms of each"
   ]
  },
  {
   "cell_type": "code",
   "execution_count": 70,
   "id": "dd923be5",
   "metadata": {},
   "outputs": [],
   "source": [
    "from sklearn.linear_model import Ridge\n",
    "\n",
    "X_train, X_test, y_train, y_test = train_test_split(X[list(features_selector_forward.k_feature_names_)],y,test_size=0.33, random_state=42+i)\n",
    "\n",
    "model = Ridge(alpha = 0.1)\n",
    "\n",
    "#fit model\n",
    "model_ridge = model.fit(X_train, y_train)"
   ]
  },
  {
   "cell_type": "code",
   "execution_count": 71,
   "id": "4bfd0068",
   "metadata": {},
   "outputs": [
    {
     "name": "stdout",
     "output_type": "stream",
     "text": [
      "MSE = 5315.525005639835\n",
      "MAE = 39.76424113658539\n",
      "R2 = 0.8380509230024142\n"
     ]
    }
   ],
   "source": [
    "from sklearn.metrics import mean_absolute_error as mae\n",
    "from sklearn.metrics import mean_squared_error as mse\n",
    "from sklearn.metrics import r2_score\n",
    "\n",
    "y_pred_ridge = model_ridge.predict(X_test)\n",
    "\n",
    "print(\"MSE =\", mse(y_pred_ridge, y_test))\n",
    "print(\"MAE =\", mae(y_pred_ridge, y_test))\n",
    "print(\"R2 =\", r2_score(y_pred_ridge, y_test))"
   ]
  },
  {
   "cell_type": "code",
   "execution_count": 72,
   "id": "6cf5d108",
   "metadata": {},
   "outputs": [
    {
     "name": "stdout",
     "output_type": "stream",
     "text": [
      "MSE = 5322.897811367392\n",
      "MAE = 39.755073190900596\n",
      "R2 = 0.8379248605092736\n"
     ]
    },
    {
     "name": "stderr",
     "output_type": "stream",
     "text": [
      "C:\\Users\\sharv\\anaconda3\\lib\\site-packages\\sklearn\\linear_model\\_coordinate_descent.py:631: ConvergenceWarning: Objective did not converge. You might want to increase the number of iterations, check the scale of the features or consider increasing regularisation. Duality gap: 3.024e+04, tolerance: 1.522e+02\n",
      "  model = cd_fast.enet_coordinate_descent(\n"
     ]
    }
   ],
   "source": [
    "from sklearn.linear_model import Lasso\n",
    "\n",
    "model = Lasso(alpha = 0.01)\n",
    "\n",
    "#fit model\n",
    "model_lasso = model.fit(X_train, y_train)\n",
    "\n",
    "y_pred_lasso = model_lasso.predict(X_test)\n",
    "\n",
    "print(\"MSE =\", mse(y_pred_lasso, y_test))\n",
    "print(\"MAE =\", mae(y_pred_lasso, y_test))\n",
    "print(\"R2 =\", r2_score(y_pred_lasso, y_test))"
   ]
  },
  {
   "cell_type": "markdown",
   "id": "de275a90",
   "metadata": {},
   "source": [
    "### Since pca and ridge both performed well but r2 score for ridge was better so we move forward with ridge and attempt resampling methods"
   ]
  },
  {
   "cell_type": "markdown",
   "id": "761780a4",
   "metadata": {},
   "source": [
    "### 4.5 : Resampling Methods"
   ]
  },
  {
   "cell_type": "markdown",
   "id": "7b750c09",
   "metadata": {},
   "source": [
    "### Bootstrapping - Ridge"
   ]
  },
  {
   "cell_type": "markdown",
   "id": "a8792953",
   "metadata": {},
   "source": [
    "### To increase the sample size we use bootstrapping ( with repetion)"
   ]
  },
  {
   "cell_type": "code",
   "execution_count": 73,
   "id": "49c70a8b",
   "metadata": {},
   "outputs": [
    {
     "name": "stdout",
     "output_type": "stream",
     "text": [
      "=============================================\n",
      "Mean RMSE =  70.11833332906859\n",
      "Mean R2  =  0.7151760573616885\n"
     ]
    }
   ],
   "source": [
    "rmse_resampling = []\n",
    "r2score_resampling = []\n",
    "\n",
    "n_times = 10\n",
    "\n",
    "## Performing bootstrapping\n",
    "for i in range(n_times):\n",
    "    \n",
    "    X_train, X_test, y_train, y_test = train_test_split(X[list(features_selector_forward.k_feature_names_)],y,test_size=0.33, random_state=42+i)\n",
    "    \n",
    "    model = Ridge(alpha = 0.1)\n",
    "    model_ridge = model.fit(X_train, y_train)\n",
    "    y_pred = model_ridge.predict(X_test) \n",
    "    \n",
    "    #Measuring accuracy on Testing Data    \n",
    "    rmse_resampling.append(np.sqrt(mse(y_test,y_pred)))\n",
    "    r2score_resampling.append(r2_score(y_test, y_pred))\n",
    "    \n",
    "################################################\n",
    "# Result of all bootstrapping trials\n",
    "print('=============================================')\n",
    "\n",
    "print(\"Mean RMSE = \", np.mean(rmse_resampling))\n",
    "print(\"Mean R2  = \", np.mean(r2score_resampling))"
   ]
  },
  {
   "cell_type": "markdown",
   "id": "60c3e04d",
   "metadata": {},
   "source": [
    "### After performing bootstrapping on Ridge we find out there is no significant improvement"
   ]
  },
  {
   "cell_type": "markdown",
   "id": "3def0615",
   "metadata": {},
   "source": [
    "### Cross Validation - Ridge"
   ]
  },
  {
   "cell_type": "markdown",
   "id": "495247fe",
   "metadata": {},
   "source": [
    "### They work by splitting the dataset into multiple training and test sets and running the evaluation multiple times (without repetion and dataset size remains same)"
   ]
  },
  {
   "cell_type": "code",
   "execution_count": 75,
   "id": "9178de42",
   "metadata": {},
   "outputs": [
    {
     "name": "stdout",
     "output_type": "stream",
     "text": [
      "Mean Training Score =  0.9670944410761988\n",
      "Mean Testing Score =  0.8379473959188342\n"
     ]
    }
   ],
   "source": [
    "from sklearn.model_selection import cross_validate\n",
    "\n",
    "X_train, X_test, y_train, y_test = train_test_split(X[list(features_selector_forward.k_feature_names_)],y,test_size=0.33, random_state=42)\n",
    "    \n",
    "lg_resultant = cross_validate(Ridge(solver='lsqr'), \n",
    "                              X_train, \n",
    "                              y_train, \n",
    "                              cv=5,\n",
    "                            return_train_score=True,)\n",
    "\n",
    "print(\"Mean Training Score = \", lg_resultant['train_score'].mean())\n",
    "print(\"Mean Testing Score = \", lg_resultant['test_score'].mean())"
   ]
  },
  {
   "cell_type": "markdown",
   "id": "8c0f1178",
   "metadata": {},
   "source": [
    "### Good training accuracy and not so good testing accuracy which may be caused by slight  model overfitting"
   ]
  },
  {
   "cell_type": "markdown",
   "id": "09120a0e",
   "metadata": {},
   "source": [
    "### Moving Beyond Linearity"
   ]
  },
  {
   "cell_type": "markdown",
   "id": "830d71ea",
   "metadata": {},
   "source": [
    "### Polynomial Regression"
   ]
  },
  {
   "cell_type": "code",
   "execution_count": 76,
   "id": "d385e703",
   "metadata": {},
   "outputs": [
    {
     "data": {
      "text/plain": [
       "((102, 16), (102, 1))"
      ]
     },
     "execution_count": 76,
     "metadata": {},
     "output_type": "execute_result"
    }
   ],
   "source": [
    "X.shape,y.shape"
   ]
  },
  {
   "cell_type": "code",
   "execution_count": 77,
   "id": "89239a60",
   "metadata": {},
   "outputs": [
    {
     "name": "stdout",
     "output_type": "stream",
     "text": [
      "for degree : 1\n",
      "MAE :  45.960238423940744\n",
      "R2 Score :  0.6105329583477966\n",
      "for degree : 2\n",
      "MAE :  669.7881125097578\n",
      "R2 Score :  -118.74077278657711\n",
      "for degree : 3\n",
      "MAE :  29870.318641159014\n",
      "R2 Score :  -378345.1943587214\n",
      "for degree : 4\n",
      "MAE :  2616.9028437189986\n",
      "R2 Score :  -2334.7141669082735\n"
     ]
    }
   ],
   "source": [
    "from sklearn.preprocessing import PolynomialFeatures\n",
    "from sklearn.metrics import mean_absolute_error as mae\n",
    "from sklearn.metrics import r2_score\n",
    "\n",
    "r2_scores_poly = []\n",
    "mae_scores = []  \n",
    "for i in range(1,5):  \n",
    "    X_train, X_test, y_train, y_test = train_test_split(X,y,test_size=0.33,random_state=42)\n",
    "\n",
    "    poly = PolynomialFeatures(degree = i)\n",
    "    X_train = poly.fit_transform(X_train)\n",
    "    X_test = poly.fit_transform(X_test)\n",
    "\n",
    "\n",
    "    poly.fit(X_train, y_train)\n",
    "    linReg = LinearRegression()\n",
    "    linReg.fit(X_train, y_train)\n",
    "\n",
    "    y_pred = linReg.predict(X_test)\n",
    "    print(\"for degree : {}\".format(i))\n",
    "    print(\"MAE : \", mae(y_test, y_pred))\n",
    "    print(\"R2 Score : \", r2_score(y_test, y_pred))\n",
    "    mae_scores.append(mae(y_test, y_pred))\n",
    "    r2_scores_poly.append(r2_score(y_test, y_pred))"
   ]
  },
  {
   "cell_type": "markdown",
   "id": "30b63bac",
   "metadata": {},
   "source": [
    "### We can clearly see from above that linear methods work better since my data set is follows a linear path it is very obvious that accuracy for polynomial regression will not be good."
   ]
  },
  {
   "cell_type": "markdown",
   "id": "664fc8c4",
   "metadata": {},
   "source": [
    "### Ridge Regression gives the best results among all models to predict total calories."
   ]
  },
  {
   "cell_type": "markdown",
   "id": "6d20b993",
   "metadata": {},
   "source": [
    "### Conclusion\n",
    "\n",
    "#### The dataset and the macro and micronutrients showed interesting results.\n",
    "#### •\tMeans of saturated fats and trans fats are equal.\n",
    "#### •\tMeans of total calories and Trans-fat are not equal.\n",
    "#### •\tF test showed means of the sample are different\n",
    "#### •\tSufficient evidence to say that there is an association between Menu Category and Size Type preference.\n",
    "#### •\tRidge Regression was the best machine learning model to predict total calories.\n",
    "####  This research paper provides an effective alternative for people looking to adopt a healthier lifestyle by showing them how to test their own favourite food company that they consider healthy but might not be a healthy option.\n",
    "#### By leveraging machine learning algorithms, the system provides accurate and personalized recommendations that can help individuals make informed decisions about their diet and overall health and not have to rely on third party apps for calorie intake always.\n",
    "#### There is still a lot of improvement which can be done to the models to get better results in future.\n"
   ]
  },
  {
   "cell_type": "markdown",
   "id": "9bcd09c6",
   "metadata": {},
   "source": [
    "### References\n",
    "#### Mathematical Statistics and Data Analysis.\n",
    "#### J. Rice. Belmont, CA: Duxbury Press., Third edition, (2006)\n"
   ]
  }
 ],
 "metadata": {
  "kernelspec": {
   "display_name": "Python 3 (ipykernel)",
   "language": "python",
   "name": "python3"
  },
  "language_info": {
   "codemirror_mode": {
    "name": "ipython",
    "version": 3
   },
   "file_extension": ".py",
   "mimetype": "text/x-python",
   "name": "python",
   "nbconvert_exporter": "python",
   "pygments_lexer": "ipython3",
   "version": "3.9.7"
  }
 },
 "nbformat": 4,
 "nbformat_minor": 5
}
